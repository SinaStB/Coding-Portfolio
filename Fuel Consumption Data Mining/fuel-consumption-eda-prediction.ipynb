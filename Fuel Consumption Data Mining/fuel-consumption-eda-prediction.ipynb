{
 "cells": [
  {
   "cell_type": "markdown",
   "id": "distant-irrigation",
   "metadata": {
    "papermill": {
     "duration": 0.042115,
     "end_time": "2022-08-17T12:44:50.266986",
     "exception": false,
     "start_time": "2022-08-17T12:44:50.224871",
     "status": "completed"
    },
    "tags": []
   },
   "source": [
    "<p style=\"padding: 10px;\n",
    "          color: #7DBCE6;\n",
    "          text-align: center;\n",
    "          font-family:Verdana;\n",
    "          font-size:190%;\">\n",
    "Fuel Consumption EDA & Prediction\n",
    "\n",
    "</p>\n",
    "\n",
    "\n",
    "          \n",
    "<img src=\"https://media.giphy.com/media/l2R0e9y6A304JkFOg/source.gif\"> \n",
    "\n",
    "<div class=\"inner_cell\">\n",
    "<div class=\"text_cell_render border-box-sizing rendered_html\">\n",
    "<p></p><div class=\"list-group\" id=\"list-tab\" role=\"tablist\">\n",
    "  <h3 class=\"list-group-item list-group-item-action active\" data-toggle=\"list\" role=\"tab\" aria-controls=\"home\" style = \"border:2px solid #7DBCE6;background-color:#7DBCE6; color:white; font-family:Verdana;text-align: center; font-size:120%;\">Notebook Content</h3>\n",
    "  <a class=\"list-group-item list-group-item-action\" data-toggle=\"list\" href=\"#1\" role=\"tab\" aria-controls=\"profile\" target=\"_self\" style = \"color:#7DBCE6; font-family:Verdana;text-align: center; font-size:100%;\">Libraries and Utilities<span class=\"badge badge-primary badge-pill\">1</span></a>\n",
    "  <a class=\"list-group-item list-group-item-action\" data-toggle=\"list\" href=\"#2\" role=\"tab\" aria-controls=\"messages\" target=\"_self\" style = \"color:#7DBCE6; font-family:Verdana;text-align: center; font-size:100%;\">Load and Check Data<span class=\"badge badge-primary badge-pill\">2</span></a>\n",
    "  <a class=\"list-group-item list-group-item-action\" data-toggle=\"list\" href=\"#3\" role=\"tab\" aria-controls=\"settings\" target=\"_self\" style = \"color:#7DBCE6; font-family:Verdana;text-align: center; font-size:100%;\">Exploratory Data Analysis<span class=\"badge badge-primary badge-pill\">3</span></a>\n",
    "  <a class=\"list-group-item list-group-item-action\" data-toggle=\"list\" href=\"#4\" role=\"tab\" aria-controls=\"settings\" target=\"_self\" style = \"color:#7DBCE6; font-family:Verdana;text-align: center; font-size:100%;\">Missing Values<span class=\"badge badge-primary badge-pill\">4</span></a> \n",
    "  <a class=\"list-group-item list-group-item-action\" data-toggle=\"list\" href=\"#11\" role=\"tab\" aria-controls=\"settings\" target=\"_self\" style = \"color:#7DBCE6; font-family:Verdana;text-align: center; font-size:100%;\">Outliers<span class=\"badge badge-primary badge-pill\">5</span></a>\n",
    "    <a class=\"list-group-item list-group-item-action\" data-toggle=\"list\" href=\"#12\" role=\"tab\" aria-controls=\"settings\" target=\"_self\" style = \"color:#7DBCE6; font-family:Verdana;text-align: center; font-size:100%;\">Feature Engineering<span class=\"badge badge-primary badge-pill\">6</span></a>\n",
    "      <a class=\"list-group-item list-group-item-action\" data-toggle=\"list\" href=\"#16\" role=\"tab\" aria-controls=\"settings\" target=\"_self\" style = \"color:#7DBCE6; font-family:Verdana;text-align: center; font-size:100%;\">Preprocessing<span class=\"badge badge-primary badge-pill\">7</span></a>\n",
    "      <a class=\"list-group-item list-group-item-action\" data-toggle=\"list\" href=\"#19\" role=\"tab\" aria-controls=\"settings\" target=\"_self\" style = \"color:#7DBCE6; font-family:Verdana;text-align: center; font-size:100%;\">Modeling<span class=\"badge badge-primary badge-pill\">8</span></a>\n",
    "\n",
    "\n",
    "</div>\n",
    "</div>\n",
    "</div>"
   ]
  },
  {
   "cell_type": "markdown",
   "id": "opposite-boutique",
   "metadata": {
    "papermill": {
     "duration": 0.037618,
     "end_time": "2022-08-17T12:44:50.343594",
     "exception": false,
     "start_time": "2022-08-17T12:44:50.305976",
     "status": "completed"
    },
    "tags": []
   },
   "source": [
    "<a id = \"1\"></a>\n",
    "<span style=\"color:#7DBCE6;\n",
    "             font-size:150%;\n",
    "             font-family:Verdana;\">\n",
    "Libraries and Utilities"
   ]
  },
  {
   "cell_type": "code",
   "execution_count": 1,
   "id": "returning-brazilian",
   "metadata": {
    "_kg_hide-output": true,
    "execution": {
     "iopub.execute_input": "2022-08-17T12:44:50.425734Z",
     "iopub.status.busy": "2022-08-17T12:44:50.423890Z",
     "iopub.status.idle": "2022-08-17T12:44:59.080614Z",
     "shell.execute_reply": "2022-08-17T12:44:59.079373Z",
     "shell.execute_reply.started": "2022-08-17T12:26:21.792675Z"
    },
    "papermill": {
     "duration": 8.699127,
     "end_time": "2022-08-17T12:44:59.080800",
     "exception": false,
     "start_time": "2022-08-17T12:44:50.381673",
     "status": "completed"
    },
    "tags": []
   },
   "outputs": [
    {
     "name": "stdout",
     "output_type": "stream",
     "text": [
      "Requirement already satisfied: plotly in c:\\users\\sinas\\anaconda3\\lib\\site-packages (5.9.0)\n",
      "Requirement already satisfied: tenacity>=6.2.0 in c:\\users\\sinas\\anaconda3\\lib\\site-packages (from plotly) (8.0.1)\n"
     ]
    }
   ],
   "source": [
    "!pip install plotly"
   ]
  },
  {
   "cell_type": "code",
   "execution_count": 2,
   "id": "welcome-journalism",
   "metadata": {
    "_cell_guid": "b1076dfc-b9ad-4769-8c92-a6c4dae69d19",
    "_uuid": "8f2839f25d086af736a60e9eeb907d3b93b6e0e5",
    "execution": {
     "iopub.execute_input": "2022-08-17T12:44:59.173118Z",
     "iopub.status.busy": "2022-08-17T12:44:59.172225Z",
     "iopub.status.idle": "2022-08-17T12:45:02.980302Z",
     "shell.execute_reply": "2022-08-17T12:45:02.979479Z",
     "shell.execute_reply.started": "2022-08-17T12:26:28.945009Z"
    },
    "papermill": {
     "duration": 3.859884,
     "end_time": "2022-08-17T12:45:02.980480",
     "exception": false,
     "start_time": "2022-08-17T12:44:59.120596",
     "status": "completed"
    },
    "tags": []
   },
   "outputs": [
    {
     "ename": "ModuleNotFoundError",
     "evalue": "No module named 'pandas_profiling'",
     "output_type": "error",
     "traceback": [
      "\u001b[1;31m---------------------------------------------------------------------------\u001b[0m",
      "\u001b[1;31mModuleNotFoundError\u001b[0m                       Traceback (most recent call last)",
      "Input \u001b[1;32mIn [2]\u001b[0m, in \u001b[0;36m<cell line: 7>\u001b[1;34m()\u001b[0m\n\u001b[0;32m      5\u001b[0m \u001b[38;5;28;01mfrom\u001b[39;00m \u001b[38;5;21;01mscipy\u001b[39;00m \u001b[38;5;28;01mimport\u001b[39;00m stats\n\u001b[0;32m      6\u001b[0m \u001b[38;5;28;01mfrom\u001b[39;00m \u001b[38;5;21;01mscipy\u001b[39;00m\u001b[38;5;21;01m.\u001b[39;00m\u001b[38;5;21;01mstats\u001b[39;00m \u001b[38;5;28;01mimport\u001b[39;00m norm, skew\n\u001b[1;32m----> 7\u001b[0m \u001b[38;5;28;01mfrom\u001b[39;00m \u001b[38;5;21;01mpandas_profiling\u001b[39;00m \u001b[38;5;28;01mimport\u001b[39;00m ProfileReport\n\u001b[0;32m      8\u001b[0m warnings\u001b[38;5;241m.\u001b[39mfilterwarnings(\u001b[38;5;124m\"\u001b[39m\u001b[38;5;124mignore\u001b[39m\u001b[38;5;124m\"\u001b[39m)\n\u001b[0;32m     10\u001b[0m \u001b[38;5;28;01mimport\u001b[39;00m \u001b[38;5;21;01mseaborn\u001b[39;00m \u001b[38;5;28;01mas\u001b[39;00m \u001b[38;5;21;01msns\u001b[39;00m\n",
      "\u001b[1;31mModuleNotFoundError\u001b[0m: No module named 'pandas_profiling'"
     ]
    }
   ],
   "source": [
    "import os\n",
    "import warnings\n",
    "import numpy as np\n",
    "import pandas as pd\n",
    "from scipy import stats\n",
    "from scipy.stats import norm, skew\n",
    "from pandas_profiling import ProfileReport\n",
    "warnings.filterwarnings(\"ignore\")\n",
    "\n",
    "import seaborn as sns\n",
    "import plotly.express as px\n",
    "from matplotlib import colors\n",
    "import plotly.graph_objs as go\n",
    "import matplotlib.pyplot as plt\n",
    "from plotly.offline import iplot\n",
    "from plotly.subplots import make_subplots\n",
    "%matplotlib inline\n",
    "colors = ['#7DBCE6','#E6ABE6','#E7E89E','#8FE195','#E28181',\n",
    "          '#87D8DB','#C2E37D','#DF93A4','#DCB778','#C497DE']\n",
    "sns.palplot(sns.color_palette(colors))\n",
    "plt.title('Notebook Colors', size = 12)\n",
    "plt.axis('off')\n",
    "plt.show()\n",
    "\n",
    "from lightgbm import LGBMRegressor\n",
    "from xgboost import XGBRegressor\n",
    "from sklearn.base import  clone\n",
    "from sklearn.pipeline import Pipeline\n",
    "from sklearn.metrics import r2_score, mean_squared_error, mean_absolute_percentage_error\n",
    "from sklearn.model_selection import train_test_split, GridSearchCV\n",
    "from sklearn.preprocessing import RobustScaler, StandardScaler\n",
    "from sklearn.neighbors import KNeighborsRegressor\n",
    "from sklearn.linear_model import (LinearRegression,\n",
    "                                  Ridge,\n",
    "                                  Lasso,\n",
    "                                  ElasticNet)"
   ]
  },
  {
   "cell_type": "markdown",
   "id": "engaged-pavilion",
   "metadata": {
    "papermill": {
     "duration": 0.039896,
     "end_time": "2022-08-17T12:45:03.061367",
     "exception": false,
     "start_time": "2022-08-17T12:45:03.021471",
     "status": "completed"
    },
    "tags": []
   },
   "source": [
    "<a id = \"2\"></a>\n",
    "<span style=\"color:#7DBCE6;\n",
    "             font-size:150%;\n",
    "             font-family:Verdana;\">\n",
    "Load and Check Data"
   ]
  },
  {
   "cell_type": "code",
   "execution_count": null,
   "id": "interested-evening",
   "metadata": {
    "execution": {
     "iopub.execute_input": "2022-08-17T12:45:03.147545Z",
     "iopub.status.busy": "2022-08-17T12:45:03.146412Z",
     "iopub.status.idle": "2022-08-17T12:45:03.201794Z",
     "shell.execute_reply": "2022-08-17T12:45:03.202309Z",
     "shell.execute_reply.started": "2022-08-17T12:26:29.039349Z"
    },
    "papermill": {
     "duration": 0.100636,
     "end_time": "2022-08-17T12:45:03.202534",
     "exception": false,
     "start_time": "2022-08-17T12:45:03.101898",
     "status": "completed"
    },
    "tags": []
   },
   "outputs": [],
   "source": [
    "auto_path = '/kaggle/input/autompg-dataset/'\n",
    "\n",
    "auto = pd.read_csv(os.path.join(auto_path, 'auto-mpg.csv'), na_values = \"?\")\n",
    "\n",
    "auto.head()"
   ]
  },
  {
   "cell_type": "code",
   "execution_count": null,
   "id": "cb9eeebe",
   "metadata": {},
   "outputs": [],
   "source": []
  },
  {
   "cell_type": "code",
   "execution_count": null,
   "id": "cathedral-pathology",
   "metadata": {
    "execution": {
     "iopub.execute_input": "2022-08-17T12:45:03.291474Z",
     "iopub.status.busy": "2022-08-17T12:45:03.290428Z",
     "iopub.status.idle": "2022-08-17T12:45:03.317386Z",
     "shell.execute_reply": "2022-08-17T12:45:03.316812Z",
     "shell.execute_reply.started": "2022-08-17T12:26:29.071947Z"
    },
    "papermill": {
     "duration": 0.072394,
     "end_time": "2022-08-17T12:45:03.317558",
     "exception": false,
     "start_time": "2022-08-17T12:45:03.245164",
     "status": "completed"
    },
    "tags": []
   },
   "outputs": [],
   "source": [
    "def auto_preprocess(dataframe):\n",
    "    df_ = dataframe.copy()\n",
    "    auto_misspelled = {'chevroelt': 'chevrolet',\n",
    "                       'chevy': 'chevrolet',\n",
    "                       'vokswagen': 'volkswagen',\n",
    "                       'vw': 'volkswagen',\n",
    "                       'hi': 'harvester',\n",
    "                       'maxda': 'mazda',\n",
    "                       'toyouta': 'toyota',\n",
    "                       'mercedes-benz': 'mercedes'}\n",
    "    df_['make'] = [auto_misspelled[key].title() if key in auto_misspelled else\n",
    "                   key.title() for key in [i.split()[0] for i in df_['car name']]]\n",
    "    df_['name'] = [' '.join(i.split()[1:]).title() for i in df_['car name']]\n",
    "    \n",
    "    df_ = df_.drop(columns = ['car name'], axis = 1)\n",
    "    return df_\n",
    "\n",
    "df = auto_preprocess(auto)\n",
    "df.head()"
   ]
  },
  {
   "cell_type": "code",
   "execution_count": null,
   "id": "instructional-choice",
   "metadata": {
    "execution": {
     "iopub.execute_input": "2022-08-17T12:45:03.404609Z",
     "iopub.status.busy": "2022-08-17T12:45:03.403567Z",
     "iopub.status.idle": "2022-08-17T12:45:22.481227Z",
     "shell.execute_reply": "2022-08-17T12:45:22.480663Z",
     "shell.execute_reply.started": "2022-08-17T12:26:29.105796Z"
    },
    "papermill": {
     "duration": 19.122534,
     "end_time": "2022-08-17T12:45:22.481395",
     "exception": false,
     "start_time": "2022-08-17T12:45:03.358861",
     "status": "completed"
    },
    "tags": []
   },
   "outputs": [],
   "source": [
    " df.profile_report()"
   ]
  },
  {
   "cell_type": "markdown",
   "id": "unlikely-dictionary",
   "metadata": {
    "papermill": {
     "duration": 0.208286,
     "end_time": "2022-08-17T12:45:22.909159",
     "exception": false,
     "start_time": "2022-08-17T12:45:22.700873",
     "status": "completed"
    },
    "tags": []
   },
   "source": [
    "<span style=\"color:#7DBCE6;\n",
    "             font-size:130%;\n",
    "             font-family:Verdana;\">\n",
    "Variable Types"
   ]
  },
  {
   "cell_type": "code",
   "execution_count": null,
   "id": "sound-world",
   "metadata": {
    "execution": {
     "iopub.execute_input": "2022-08-17T12:45:23.346622Z",
     "iopub.status.busy": "2022-08-17T12:45:23.345919Z",
     "iopub.status.idle": "2022-08-17T12:45:23.357162Z",
     "shell.execute_reply": "2022-08-17T12:45:23.356453Z",
     "shell.execute_reply.started": "2022-08-17T12:26:47.277744Z"
    },
    "papermill": {
     "duration": 0.235991,
     "end_time": "2022-08-17T12:45:23.357322",
     "exception": false,
     "start_time": "2022-08-17T12:45:23.121331",
     "status": "completed"
    },
    "tags": []
   },
   "outputs": [],
   "source": [
    "def check_class(dataframe):\n",
    "    nunique_df = pd.DataFrame({'Variable': dataframe.columns,\n",
    "                               'Classes': [dataframe[i].nunique() \\\n",
    "                                           for i in dataframe.columns]})\n",
    "\n",
    "    nunique_df = nunique_df.sort_values('Classes', ascending=False)\n",
    "    nunique_df = nunique_df.reset_index(drop = True)\n",
    "    return nunique_df\n",
    "\n",
    "check_class(df)"
   ]
  },
  {
   "cell_type": "code",
   "execution_count": null,
   "id": "complete-brake",
   "metadata": {
    "execution": {
     "iopub.execute_input": "2022-08-17T12:45:23.785167Z",
     "iopub.status.busy": "2022-08-17T12:45:23.784415Z",
     "iopub.status.idle": "2022-08-17T12:45:23.795504Z",
     "shell.execute_reply": "2022-08-17T12:45:23.794849Z",
     "shell.execute_reply.started": "2022-08-17T12:26:47.301811Z"
    },
    "papermill": {
     "duration": 0.220857,
     "end_time": "2022-08-17T12:45:23.795665",
     "exception": false,
     "start_time": "2022-08-17T12:45:23.574808",
     "status": "completed"
    },
    "tags": []
   },
   "outputs": [],
   "source": [
    "def grab_col_names(dataframe, cat_th=10, car_th=20):\n",
    "    \n",
    "    # cat_cols, cat_but_car\n",
    "    cat_cols = [col for col in dataframe.columns if dataframe[col].dtypes == \"O\"]\n",
    "    num_but_cat = [col for col in dataframe.columns if dataframe[col].nunique() < cat_th and\n",
    "                   dataframe[col].dtypes != \"O\"]\n",
    "    cat_but_car = [col for col in dataframe.columns if dataframe[col].nunique() > car_th and\n",
    "                   dataframe[col].dtypes == \"O\"]\n",
    "    cat_cols = cat_cols + num_but_cat\n",
    "    cat_cols = [col for col in cat_cols if col not in cat_but_car]\n",
    "\n",
    "    # num_cols\n",
    "    num_cols = [col for col in dataframe.columns if dataframe[col].dtypes != \"O\"]\n",
    "    num_cols = [col for col in num_cols if col not in num_but_cat]\n",
    "\n",
    "    print(f\"Observations: {dataframe.shape[0]}\")\n",
    "    print(f\"Variables: {dataframe.shape[1]}\")\n",
    "    print(f'cat_cols: {len(cat_cols)}')\n",
    "    print(f'num_cols: {len(num_cols)}')\n",
    "    print(f'cat_but_car: {len(cat_but_car)}')\n",
    "    print(f'num_but_cat: {len(num_but_cat)}')\n",
    "    return cat_cols, num_cols, cat_but_car\n",
    "\n",
    "cat_cols, num_cols, cat_but_car = grab_col_names(df)"
   ]
  },
  {
   "cell_type": "markdown",
   "id": "homeless-armor",
   "metadata": {
    "papermill": {
     "duration": 0.208446,
     "end_time": "2022-08-17T12:45:24.212750",
     "exception": false,
     "start_time": "2022-08-17T12:45:24.004304",
     "status": "completed"
    },
    "tags": []
   },
   "source": [
    "<span style=\"color:#7DBCE6;\n",
    "             font-size:130%;\n",
    "             font-family:Verdana;\">\n",
    "Descriptive Statistics"
   ]
  },
  {
   "cell_type": "code",
   "execution_count": null,
   "id": "assumed-treasurer",
   "metadata": {
    "execution": {
     "iopub.execute_input": "2022-08-17T12:45:24.645735Z",
     "iopub.status.busy": "2022-08-17T12:45:24.644640Z",
     "iopub.status.idle": "2022-08-17T12:45:25.115619Z",
     "shell.execute_reply": "2022-08-17T12:45:25.114921Z",
     "shell.execute_reply.started": "2022-08-17T12:26:47.325828Z"
    },
    "papermill": {
     "duration": 0.693975,
     "end_time": "2022-08-17T12:45:25.115785",
     "exception": false,
     "start_time": "2022-08-17T12:45:24.421810",
     "status": "completed"
    },
    "tags": []
   },
   "outputs": [],
   "source": [
    "def desc_stats(dataframe):\n",
    "    desc = dataframe.describe().T\n",
    "    desc_df = pd.DataFrame(index= dataframe.columns, \n",
    "                           columns= desc.columns,\n",
    "                           data= desc)\n",
    "    \n",
    "    f,ax = plt.subplots(figsize=(10,\n",
    "                                 desc_df.shape[0]*0.78))\n",
    "    sns.heatmap(desc_df,\n",
    "                annot = True,\n",
    "                cmap = \"Blues\",\n",
    "                fmt= '.2f',\n",
    "                ax = ax,\n",
    "                linecolor = 'white',\n",
    "                linewidths = 1.3,\n",
    "                cbar = False,\n",
    "                annot_kws = {\"size\": 14})\n",
    "    plt.xticks(size = 18)\n",
    "    plt.yticks(size = 14,\n",
    "               rotation = 0)\n",
    "    plt.title(\"Descriptive Statistics\", size = 16)\n",
    "    plt.show()\n",
    "    \n",
    "desc_stats(df[num_cols])"
   ]
  },
  {
   "cell_type": "markdown",
   "id": "recovered-supervision",
   "metadata": {
    "papermill": {
     "duration": 0.211515,
     "end_time": "2022-08-17T12:45:25.549672",
     "exception": false,
     "start_time": "2022-08-17T12:45:25.338157",
     "status": "completed"
    },
    "tags": []
   },
   "source": [
    "<a id = \"3\"></a>\n",
    "<span style=\"color:#7DBCE6;\n",
    "             font-size:150%;\n",
    "             font-family:Verdana;\">\n",
    "Exploratory Data Analysis\n",
    "\n",
    "<span style=\"color:#7DBCE6;\n",
    "             font-size:130%;\n",
    "             font-family:Verdana;\">\n",
    "Analysis of Categorical Variables"
   ]
  },
  {
   "cell_type": "code",
   "execution_count": null,
   "id": "noble-shock",
   "metadata": {
    "execution": {
     "iopub.execute_input": "2022-08-17T12:45:26.005919Z",
     "iopub.status.busy": "2022-08-17T12:45:26.004827Z",
     "iopub.status.idle": "2022-08-17T12:45:27.640521Z",
     "shell.execute_reply": "2022-08-17T12:45:27.639894Z",
     "shell.execute_reply.started": "2022-08-17T12:26:47.801529Z"
    },
    "papermill": {
     "duration": 1.854284,
     "end_time": "2022-08-17T12:45:27.640684",
     "exception": false,
     "start_time": "2022-08-17T12:45:25.786400",
     "status": "completed"
    },
    "tags": []
   },
   "outputs": [],
   "source": [
    "def cat_summary(dataframe, col_name):\n",
    "    \n",
    "    get_labels = lambda x: x.value_counts().keys()\n",
    "    get_values = lambda x: x.value_counts().values\n",
    "    \n",
    "    fig = make_subplots(rows = 1,cols = 2,\n",
    "                        subplot_titles = ('Countplot','Percentages'),\n",
    "                        specs = [[{\"type\": \"xy\"}, {'type':'domain'}]])\n",
    "\n",
    "    fig.add_trace(go.Bar( y = get_values(dataframe[col_name]).tolist(), \n",
    "                          x = [str(i) for i in dataframe[col_name].value_counts().index], \n",
    "                          text = get_values(dataframe[col_name]).tolist(),\n",
    "                          textfont = dict(size = 14),\n",
    "                          name = col_name,\n",
    "                          textposition = 'auto',\n",
    "                          marker = dict(color = colors),\n",
    "                          showlegend=False),\n",
    "                  row = 1, col = 1)\n",
    "    \n",
    "    fig.add_trace(go.Pie(labels = get_labels(dataframe[col_name]),\n",
    "                         values = get_values(dataframe[col_name]),\n",
    "                         textfont = dict(size = 14),\n",
    "                         textposition='auto',\n",
    "                         showlegend = False,\n",
    "                         name = col_name,\n",
    "                         marker = dict(colors = colors)\n",
    "                        ),\n",
    "                  row = 1, col = 2)\n",
    "    \n",
    "    fig.update_layout(title={'text': col_name,\n",
    "                             'y':0.9,\n",
    "                             'x':0.5,\n",
    "                             'xanchor': 'center',\n",
    "                             'yanchor': 'top'},\n",
    "                      template='plotly_white')\n",
    "    \n",
    "    iplot(fig)\n",
    "\n",
    "for col in cat_cols:\n",
    "    cat_summary(df, col)"
   ]
  },
  {
   "cell_type": "markdown",
   "id": "polar-father",
   "metadata": {
    "papermill": {
     "duration": 0.203388,
     "end_time": "2022-08-17T12:45:28.065420",
     "exception": false,
     "start_time": "2022-08-17T12:45:27.862032",
     "status": "completed"
    },
    "tags": []
   },
   "source": [
    "<span style=\"color:#7DBCE6;\n",
    "             font-size:130%;\n",
    "             font-family:Verdana;\">\n",
    "Analysis of Numerical Variables"
   ]
  },
  {
   "cell_type": "code",
   "execution_count": null,
   "id": "progressive-arbor",
   "metadata": {
    "execution": {
     "iopub.execute_input": "2022-08-17T12:45:28.501856Z",
     "iopub.status.busy": "2022-08-17T12:45:28.501042Z",
     "iopub.status.idle": "2022-08-17T12:45:29.021413Z",
     "shell.execute_reply": "2022-08-17T12:45:29.022013Z",
     "shell.execute_reply.started": "2022-08-17T12:26:47.951574Z"
    },
    "papermill": {
     "duration": 0.744238,
     "end_time": "2022-08-17T12:45:29.022251",
     "exception": false,
     "start_time": "2022-08-17T12:45:28.278013",
     "status": "completed"
    },
    "tags": []
   },
   "outputs": [],
   "source": [
    "def num_summary(dataframe, col_name):\n",
    "    fig = make_subplots(rows=1,cols=2,\n",
    "                        subplot_titles=('Quantiles','Distribution'))\n",
    "\n",
    "    fig.add_trace(go.Box(y=dataframe[col_name],\n",
    "                         name = str(col_name),\n",
    "                         showlegend = False,\n",
    "                         marker_color = colors[1]),\n",
    "                  row = 1, col = 1)\n",
    "    \n",
    "    fig.add_trace(go.Histogram(x = dataframe[col_name],\n",
    "                               xbins = dict(start = dataframe[col_name].min(),\n",
    "                                            end = dataframe[col_name].max()),\n",
    "                               showlegend = False,\n",
    "                               name = str(col_name),\n",
    "                               marker=dict(color=colors[0],\n",
    "                                           line=dict(color = '#DBE6EC',\n",
    "                                                     width = 1))\n",
    "                              ),\n",
    "                  row = 1, col = 2)\n",
    "    \n",
    "    fig.update_layout(title={'text': col_name,\n",
    "                             'y':0.9,\n",
    "                             'x':0.5,\n",
    "                             'xanchor': 'center',\n",
    "                             'yanchor': 'top'},\n",
    "                      template='plotly_white')\n",
    "    \n",
    "    iplot(fig)\n",
    "\n",
    "for i in num_cols:\n",
    "    num_summary(df,i)"
   ]
  },
  {
   "cell_type": "markdown",
   "id": "million-convergence",
   "metadata": {
    "papermill": {
     "duration": 0.214641,
     "end_time": "2022-08-17T12:45:29.479425",
     "exception": false,
     "start_time": "2022-08-17T12:45:29.264784",
     "status": "completed"
    },
    "tags": []
   },
   "source": [
    "<span style=\"color:#7DBCE6;\n",
    "             font-size:130%;\n",
    "             font-family:Verdana;\">\n",
    "TOP 10 Horsepower"
   ]
  },
  {
   "cell_type": "code",
   "execution_count": null,
   "id": "separated-border",
   "metadata": {
    "execution": {
     "iopub.execute_input": "2022-08-17T12:45:29.945871Z",
     "iopub.status.busy": "2022-08-17T12:45:29.945140Z",
     "iopub.status.idle": "2022-08-17T12:45:30.103372Z",
     "shell.execute_reply": "2022-08-17T12:45:30.102683Z",
     "shell.execute_reply.started": "2022-08-17T12:26:48.421519Z"
    },
    "papermill": {
     "duration": 0.396873,
     "end_time": "2022-08-17T12:45:30.103544",
     "exception": false,
     "start_time": "2022-08-17T12:45:29.706671",
     "status": "completed"
    },
    "tags": []
   },
   "outputs": [],
   "source": [
    "fig = px.bar(df[['horsepower','make','name']]. \\\n",
    "             sort_values('horsepower', ascending = False)[:10],\n",
    "             y = 'name',\n",
    "             x = 'horsepower',\n",
    "             text='horsepower',\n",
    "             labels={'name':'',\n",
    "                     'horsepower': 'Horsepower',\n",
    "                     'make': ''},\n",
    "             color = 'make',\n",
    "             color_discrete_sequence = colors)\n",
    "\n",
    "fig.update_layout(title= dict(text = 'TOP 10 Horsepower',\n",
    "                              x = 0.5,\n",
    "                              y = 0.95,\n",
    "                              xanchor = 'center',\n",
    "                              yanchor = 'top'),\n",
    "                  xaxis = dict(title = 'Horsepower'),\n",
    "                  yaxis = dict(categoryorder='total ascending'),\n",
    "                  font=dict(family='Verdana',\n",
    "                            size=14,\n",
    "                            color='black'),\n",
    "                  template='plotly_white')\n",
    "\n",
    "fig.show()"
   ]
  },
  {
   "cell_type": "markdown",
   "id": "sound-nicaragua",
   "metadata": {
    "papermill": {
     "duration": 0.212558,
     "end_time": "2022-08-17T12:45:30.556271",
     "exception": false,
     "start_time": "2022-08-17T12:45:30.343713",
     "status": "completed"
    },
    "tags": []
   },
   "source": [
    "<span style=\"color:#7DBCE6;\n",
    "             font-size:130%;\n",
    "             font-family:Verdana;\">\n",
    "TOP 10 Weight"
   ]
  },
  {
   "cell_type": "code",
   "execution_count": null,
   "id": "loaded-secretariat",
   "metadata": {
    "execution": {
     "iopub.execute_input": "2022-08-17T12:45:30.997324Z",
     "iopub.status.busy": "2022-08-17T12:45:30.996558Z",
     "iopub.status.idle": "2022-08-17T12:45:31.114192Z",
     "shell.execute_reply": "2022-08-17T12:45:31.113588Z",
     "shell.execute_reply.started": "2022-08-17T12:26:48.547363Z"
    },
    "papermill": {
     "duration": 0.339813,
     "end_time": "2022-08-17T12:45:31.114353",
     "exception": false,
     "start_time": "2022-08-17T12:45:30.774540",
     "status": "completed"
    },
    "tags": []
   },
   "outputs": [],
   "source": [
    "fig = px.bar(df[['weight','make','name']]. \\\n",
    "             sort_values('weight', ascending = False)[:10],\n",
    "             y = 'name',\n",
    "             x = 'weight',\n",
    "             text='weight',\n",
    "             labels={'name':'',\n",
    "                     'weight': 'Weight',\n",
    "                     'make': ''},\n",
    "             color = 'make',\n",
    "             color_discrete_sequence = colors)\n",
    "\n",
    "fig.update_layout(title= dict(text = 'TOP 10 Weight',\n",
    "                              x = 0.5,\n",
    "                              y = 0.95,\n",
    "                              xanchor = 'center',\n",
    "                              yanchor = 'top'),\n",
    "                  xaxis = dict(title = 'Weight'),\n",
    "                  yaxis = dict(categoryorder='total ascending'),\n",
    "                  font=dict(family='Verdana',\n",
    "                            size=14,\n",
    "                            color='black'),\n",
    "                  template='plotly_white')\n",
    "\n",
    "fig.show()"
   ]
  },
  {
   "cell_type": "markdown",
   "id": "attended-sandwich",
   "metadata": {
    "papermill": {
     "duration": 0.20871,
     "end_time": "2022-08-17T12:45:31.554271",
     "exception": false,
     "start_time": "2022-08-17T12:45:31.345561",
     "status": "completed"
    },
    "tags": []
   },
   "source": [
    "<span style=\"color:#7DBCE6;\n",
    "             font-size:130%;\n",
    "             font-family:Verdana;\">\n",
    "Horsepower - MPG - Cylinders"
   ]
  },
  {
   "cell_type": "code",
   "execution_count": null,
   "id": "necessary-assumption",
   "metadata": {
    "execution": {
     "iopub.execute_input": "2022-08-17T12:45:32.000797Z",
     "iopub.status.busy": "2022-08-17T12:45:31.999843Z",
     "iopub.status.idle": "2022-08-17T12:45:32.087072Z",
     "shell.execute_reply": "2022-08-17T12:45:32.087708Z",
     "shell.execute_reply.started": "2022-08-17T12:26:48.670609Z"
    },
    "papermill": {
     "duration": 0.315493,
     "end_time": "2022-08-17T12:45:32.087892",
     "exception": false,
     "start_time": "2022-08-17T12:45:31.772399",
     "status": "completed"
    },
    "tags": []
   },
   "outputs": [],
   "source": [
    "data = [go.Scatter(x = df['mpg'],\n",
    "                   y = df['horsepower'],\n",
    "                   mode = 'markers',\n",
    "                   text=df['weight'],\n",
    "                   marker=dict(size=10,\n",
    "                               color = df['weight'],\n",
    "                               showscale=True,\n",
    "                               colorscale = 'Viridis',\n",
    "                               colorbar = dict(title='Weight'),\n",
    "                               opacity=0.8))]\n",
    "\n",
    "layout = go.Layout(title=dict(text='Horsepower - MPG - Weight',\n",
    "                              y=0.9,\n",
    "                              x=0.5,\n",
    "                              xanchor= 'center',\n",
    "                              yanchor= 'top'),\n",
    "                              xaxis = dict(title='MPG'),\n",
    "                              yaxis =dict(title='Horsepower'),\n",
    "                   template='plotly_white')\n",
    "\n",
    "fig = go.Figure(data=data,layout=layout)\n",
    "iplot(fig)"
   ]
  },
  {
   "cell_type": "markdown",
   "id": "extraordinary-charlotte",
   "metadata": {
    "papermill": {
     "duration": 0.208991,
     "end_time": "2022-08-17T12:45:32.528962",
     "exception": false,
     "start_time": "2022-08-17T12:45:32.319971",
     "status": "completed"
    },
    "tags": []
   },
   "source": [
    "<span style=\"color:#7DBCE6;\n",
    "             font-size:130%;\n",
    "             font-family:Verdana;\">\n",
    "Horsepower - MPG - Displacement - Weight "
   ]
  },
  {
   "cell_type": "code",
   "execution_count": null,
   "id": "thermal-terry",
   "metadata": {
    "execution": {
     "iopub.execute_input": "2022-08-17T12:45:32.971797Z",
     "iopub.status.busy": "2022-08-17T12:45:32.971087Z",
     "iopub.status.idle": "2022-08-17T12:45:33.096125Z",
     "shell.execute_reply": "2022-08-17T12:45:33.095507Z",
     "shell.execute_reply.started": "2022-08-17T12:26:48.748504Z"
    },
    "papermill": {
     "duration": 0.348419,
     "end_time": "2022-08-17T12:45:33.096298",
     "exception": false,
     "start_time": "2022-08-17T12:45:32.747879",
     "status": "completed"
    },
    "tags": []
   },
   "outputs": [],
   "source": [
    "data = go.Scatter3d(x = df['horsepower'],\n",
    "                    y = df['mpg'],\n",
    "                    z = df['displacement'],\n",
    "                    mode='markers', marker=dict(color=df['weight'],\n",
    "                                                showscale=True,\n",
    "                                                colorbar=dict(title='Weight'),\n",
    "                                                colorscale = 'Viridis',\n",
    "                                                opacity=0.7))\n",
    "\n",
    "layout = go.Layout(title = dict(text='Horsepower - MPG - Displacement - Weight',\n",
    "                                y=0.9,\n",
    "                                x=0.5,\n",
    "                                xanchor= 'center',\n",
    "                                yanchor= 'top'),\n",
    "                   scene = dict(xaxis = dict(title='Horsepower'),\n",
    "                                yaxis = dict(title = 'MPG'),\n",
    "                                zaxis = dict(title='Displacement')),\n",
    "                   template='plotly_white')\n",
    "\n",
    "fig = go.Figure(data=data,layout=layout)\n",
    "iplot(fig)"
   ]
  },
  {
   "cell_type": "markdown",
   "id": "precious-sullivan",
   "metadata": {
    "papermill": {
     "duration": 0.213247,
     "end_time": "2022-08-17T12:45:33.557677",
     "exception": false,
     "start_time": "2022-08-17T12:45:33.344430",
     "status": "completed"
    },
    "tags": []
   },
   "source": [
    "<span style=\"color:#7DBCE6;\n",
    "             font-size:130%;\n",
    "             font-family:Verdana;\">\n",
    "Pairwise Relationships"
   ]
  },
  {
   "cell_type": "code",
   "execution_count": null,
   "id": "imperial-writing",
   "metadata": {
    "execution": {
     "iopub.execute_input": "2022-08-17T12:45:34.007677Z",
     "iopub.status.busy": "2022-08-17T12:45:34.006957Z",
     "iopub.status.idle": "2022-08-17T12:45:34.116616Z",
     "shell.execute_reply": "2022-08-17T12:45:34.116058Z",
     "shell.execute_reply.started": "2022-08-17T12:26:48.826689Z"
    },
    "papermill": {
     "duration": 0.335454,
     "end_time": "2022-08-17T12:45:34.116781",
     "exception": false,
     "start_time": "2022-08-17T12:45:33.781327",
     "status": "completed"
    },
    "tags": []
   },
   "outputs": [],
   "source": [
    "fig = go.Figure(data=go.Splom(dimensions=[dict(label='mpg',\n",
    "                                               values=df['mpg']),\n",
    "                                          dict(label='displacement',\n",
    "                                               values=df['displacement']),\n",
    "                                          dict(label='horsepower',\n",
    "                                               values=df['horsepower']),\n",
    "                                          dict(label='weight',\n",
    "                                               values=df['weight']),\n",
    "                                          dict(label='acceleration',\n",
    "                                               values=df['acceleration']),\n",
    "                                          dict(label='model year',\n",
    "                                               values=df['model year'])],\n",
    "                showupperhalf=True, \n",
    "                text=df['cylinders'],\n",
    "                marker=dict(color = [colors[i] for i in df['cylinders']. \\\n",
    "                                     astype('category').cat.codes],\n",
    "                            showscale = False,\n",
    "                            opacity = 0.65)))\n",
    "\n",
    "fig.update_layout(title = {'text': 'Pairwise Relationships by Cylinders',\n",
    "                          'xanchor': 'center',\n",
    "                          'yanchor': 'top',\n",
    "                          'x': 0.5,\n",
    "                          'y': 0.95},\n",
    "                  width=950,\n",
    "                  height=950,\n",
    "                  template = 'plotly_white')\n",
    "\n",
    "iplot(fig)"
   ]
  },
  {
   "cell_type": "code",
   "execution_count": null,
   "id": "thousand-designer",
   "metadata": {
    "execution": {
     "iopub.execute_input": "2022-08-17T12:45:34.573687Z",
     "iopub.status.busy": "2022-08-17T12:45:34.572583Z",
     "iopub.status.idle": "2022-08-17T12:45:34.652130Z",
     "shell.execute_reply": "2022-08-17T12:45:34.652743Z",
     "shell.execute_reply.started": "2022-08-17T12:26:48.921149Z"
    },
    "papermill": {
     "duration": 0.30327,
     "end_time": "2022-08-17T12:45:34.652961",
     "exception": false,
     "start_time": "2022-08-17T12:45:34.349691",
     "status": "completed"
    },
    "tags": []
   },
   "outputs": [],
   "source": [
    "fig = go.Figure(data=go.Splom(dimensions=[dict(label='mpg',\n",
    "                                               values=df['mpg']),\n",
    "                                          dict(label='displacement',\n",
    "                                               values=df['displacement']),\n",
    "                                          dict(label='horsepower',\n",
    "                                               values=df['horsepower']),\n",
    "                                          dict(label='weight',\n",
    "                                               values=df['weight']),\n",
    "                                          dict(label='acceleration',\n",
    "                                               values=df['acceleration']),\n",
    "                                          dict(label='model year',\n",
    "                                               values=df['model year'])],\n",
    "                showupperhalf=True, \n",
    "                text=df['origin'],\n",
    "                marker=dict(color = [colors[i] for i in df['origin']. \\\n",
    "                                     astype('category').cat.codes],\n",
    "                            showscale = False,\n",
    "                            opacity = 0.65)))\n",
    "\n",
    "fig.update_layout(title = {'text': 'Pairwise Relationships by Origins',\n",
    "                          'xanchor': 'center',\n",
    "                          'yanchor': 'top',\n",
    "                          'x': 0.5,\n",
    "                          'y': 0.95},\n",
    "                  width = 950,\n",
    "                  height = 950,\n",
    "                  template = 'plotly_white')\n",
    "\n",
    "iplot(fig)"
   ]
  },
  {
   "cell_type": "markdown",
   "id": "living-karen",
   "metadata": {
    "papermill": {
     "duration": 0.213858,
     "end_time": "2022-08-17T12:45:35.101125",
     "exception": false,
     "start_time": "2022-08-17T12:45:34.887267",
     "status": "completed"
    },
    "tags": []
   },
   "source": [
    "<span style=\"color:#7DBCE6;\n",
    "             font-size:130%;\n",
    "             font-family:Verdana;\">\n",
    "Correlation Coefficients"
   ]
  },
  {
   "cell_type": "code",
   "execution_count": null,
   "id": "latest-traffic",
   "metadata": {
    "execution": {
     "iopub.execute_input": "2022-08-17T12:45:35.574678Z",
     "iopub.status.busy": "2022-08-17T12:45:35.557602Z",
     "iopub.status.idle": "2022-08-17T12:45:35.869711Z",
     "shell.execute_reply": "2022-08-17T12:45:35.870227Z",
     "shell.execute_reply.started": "2022-08-17T12:26:49.014329Z"
    },
    "papermill": {
     "duration": 0.546367,
     "end_time": "2022-08-17T12:45:35.870423",
     "exception": false,
     "start_time": "2022-08-17T12:45:35.324056",
     "status": "completed"
    },
    "tags": []
   },
   "outputs": [],
   "source": [
    "def corr_map(dataframe, method = 'pearson', title = None):\n",
    "    assert method in ['pearson', 'spearman'], 'Invalid Correlation Method'\n",
    "    sns.set_style(\"white\")\n",
    "    matrix = np.triu(dataframe.corr(method=method))\n",
    "    f,ax=plt.subplots(figsize = (matrix.shape[0]*0.75,\n",
    "                                 matrix.shape[1]*0.75))\n",
    "    sns.heatmap(dataframe.corr(method=method),\n",
    "                annot= True,\n",
    "                fmt = \".2f\",\n",
    "                cbar = False,\n",
    "                ax=ax,\n",
    "                vmin = -1,\n",
    "                vmax = 1,\n",
    "                mask = matrix,\n",
    "                cmap = \"Blues\",\n",
    "                linewidth = 0.4,\n",
    "                linecolor = \"white\",\n",
    "                annot_kws={\"size\": 12})\n",
    "    plt.xticks(rotation=80,size=14)\n",
    "    plt.yticks(rotation=0,size=14)\n",
    "    if title == None:\n",
    "        title = f'{method.title()} Correlation Map'\n",
    "    plt.title(title, size = 14)\n",
    "    plt.show()\n",
    "    \n",
    "corr_map(df)"
   ]
  },
  {
   "cell_type": "markdown",
   "id": "liquid-gamma",
   "metadata": {
    "papermill": {
     "duration": 0.216593,
     "end_time": "2022-08-17T12:45:36.325287",
     "exception": false,
     "start_time": "2022-08-17T12:45:36.108694",
     "status": "completed"
    },
    "tags": []
   },
   "source": [
    "<a id = \"4\"></a>\n",
    "<span style=\"color:#7DBCE6;\n",
    "             font-size:150%;\n",
    "             font-family:Verdana;\">\n",
    "Missing Values"
   ]
  },
  {
   "cell_type": "code",
   "execution_count": null,
   "id": "square-allah",
   "metadata": {
    "execution": {
     "iopub.execute_input": "2022-08-17T12:45:36.799416Z",
     "iopub.status.busy": "2022-08-17T12:45:36.781599Z",
     "iopub.status.idle": "2022-08-17T12:45:36.803078Z",
     "shell.execute_reply": "2022-08-17T12:45:36.803645Z",
     "shell.execute_reply.started": "2022-08-17T12:26:49.329873Z"
    },
    "papermill": {
     "duration": 0.252075,
     "end_time": "2022-08-17T12:45:36.803831",
     "exception": false,
     "start_time": "2022-08-17T12:45:36.551756",
     "status": "completed"
    },
    "tags": []
   },
   "outputs": [],
   "source": [
    "def check_missing(dataframe):\n",
    "    \n",
    "    missing = pd.DataFrame({'Variable': dataframe.columns,\n",
    "                           'Missing': [dataframe[i].isnull().sum() for i in dataframe.columns],\n",
    "                           'Ratio': [100 * dataframe[i].isnull().sum() / dataframe.shape[0] \\\n",
    "                                    for i in dataframe.columns]})\n",
    "    missing = missing[missing['Missing'] > 0]\n",
    "    \n",
    "    if missing.shape[0] == 0:\n",
    "        print('No missing values')\n",
    "    else:\n",
    "        missing = missing.reset_index(drop = True)\n",
    "        missing = missing.sort_values('Missing', ascending = False)\n",
    "        return missing\n",
    "    \n",
    "check_missing(df)"
   ]
  },
  {
   "cell_type": "code",
   "execution_count": null,
   "id": "planned-identity",
   "metadata": {
    "execution": {
     "iopub.execute_input": "2022-08-17T12:45:37.269608Z",
     "iopub.status.busy": "2022-08-17T12:45:37.268574Z",
     "iopub.status.idle": "2022-08-17T12:45:37.292057Z",
     "shell.execute_reply": "2022-08-17T12:45:37.292920Z",
     "shell.execute_reply.started": "2022-08-17T12:26:49.355235Z"
    },
    "papermill": {
     "duration": 0.249717,
     "end_time": "2022-08-17T12:45:37.293244",
     "exception": false,
     "start_time": "2022-08-17T12:45:37.043527",
     "status": "completed"
    },
    "tags": []
   },
   "outputs": [],
   "source": [
    "df.groupby(cat_cols).agg({'horsepower': ['mean','median']})"
   ]
  },
  {
   "cell_type": "code",
   "execution_count": null,
   "id": "attractive-meter",
   "metadata": {
    "execution": {
     "iopub.execute_input": "2022-08-17T12:45:37.772438Z",
     "iopub.status.busy": "2022-08-17T12:45:37.771406Z",
     "iopub.status.idle": "2022-08-17T12:45:37.784786Z",
     "shell.execute_reply": "2022-08-17T12:45:37.785808Z",
     "shell.execute_reply.started": "2022-08-17T12:26:49.376682Z"
    },
    "papermill": {
     "duration": 0.236613,
     "end_time": "2022-08-17T12:45:37.786087",
     "exception": false,
     "start_time": "2022-08-17T12:45:37.549474",
     "status": "completed"
    },
    "tags": []
   },
   "outputs": [],
   "source": [
    "df['horsepower'] = df['horsepower'].fillna(df.groupby(cat_cols) \\\n",
    "                                           ['horsepower'].transform('median'))\n",
    "\n",
    "check_missing(df)"
   ]
  },
  {
   "cell_type": "markdown",
   "id": "deluxe-universal",
   "metadata": {
    "papermill": {
     "duration": 0.283125,
     "end_time": "2022-08-17T12:45:38.299387",
     "exception": false,
     "start_time": "2022-08-17T12:45:38.016262",
     "status": "completed"
    },
    "tags": []
   },
   "source": [
    "<a id = \"11\"></a>\n",
    "<span style=\"color:#7DBCE6;\n",
    "             font-size:150%;\n",
    "             font-family:Verdana;\">\n",
    "Outliers"
   ]
  },
  {
   "cell_type": "code",
   "execution_count": null,
   "id": "chronic-dollar",
   "metadata": {
    "execution": {
     "iopub.execute_input": "2022-08-17T12:45:38.772783Z",
     "iopub.status.busy": "2022-08-17T12:45:38.770011Z",
     "iopub.status.idle": "2022-08-17T12:45:39.265651Z",
     "shell.execute_reply": "2022-08-17T12:45:39.265105Z",
     "shell.execute_reply.started": "2022-08-17T12:26:49.394457Z"
    },
    "papermill": {
     "duration": 0.728363,
     "end_time": "2022-08-17T12:45:39.265819",
     "exception": false,
     "start_time": "2022-08-17T12:45:38.537456",
     "status": "completed"
    },
    "tags": []
   },
   "outputs": [],
   "source": [
    "def outlier_thresholds(dataframe, col_name, q1 = 0.25, q3 = 0.75):\n",
    "    quartile1 = dataframe[col_name].quantile(q1)\n",
    "    quartile3 = dataframe[col_name].quantile(q3)\n",
    "    interquantile_range = quartile3 - quartile1\n",
    "    up_limit = quartile3 + 1.5 * interquantile_range\n",
    "    low_limit = quartile1 - 1.5 * interquantile_range\n",
    "    return low_limit, up_limit\n",
    "\n",
    "def replace_with_thresholds(dataframe, variable, q1 = 0.25, q3 = 0.75):\n",
    "    low_limit, up_limit = outlier_thresholds(dataframe, variable, q1 = q1, q3 = q3)\n",
    "    dataframe.loc[(dataframe[variable] < low_limit), variable] = low_limit\n",
    "    dataframe.loc[(dataframe[variable] > up_limit), variable] = up_limit\n",
    "    \n",
    "for col in df[num_cols].columns:\n",
    "    replace_with_thresholds(df, col, q1 = 0.1, q3 = 0.9)\n",
    "    \n",
    "desc_stats(df[num_cols])"
   ]
  },
  {
   "cell_type": "markdown",
   "id": "ignored-assurance",
   "metadata": {
    "papermill": {
     "duration": 0.219214,
     "end_time": "2022-08-17T12:45:39.725921",
     "exception": false,
     "start_time": "2022-08-17T12:45:39.506707",
     "status": "completed"
    },
    "tags": []
   },
   "source": [
    "<img src=\"https://media.giphy.com/media/sDCma70RplcNG/giphy.gif\">"
   ]
  },
  {
   "cell_type": "markdown",
   "id": "neural-violence",
   "metadata": {
    "papermill": {
     "duration": 0.231572,
     "end_time": "2022-08-17T12:45:40.189399",
     "exception": false,
     "start_time": "2022-08-17T12:45:39.957827",
     "status": "completed"
    },
    "tags": []
   },
   "source": [
    "<a id = \"12\"></a>\n",
    "<span style=\"color:#7DBCE6;\n",
    "             font-size:150%;\n",
    "             font-family:Verdana;\">\n",
    "Feature Engineering\n",
    "    \n",
    "<span style=\"color:#7DBCE6;\n",
    "             font-size:130%;\n",
    "             font-family:Verdana;\">\n",
    "MPG (Dependent Variable)"
   ]
  },
  {
   "cell_type": "code",
   "execution_count": null,
   "id": "innocent-market",
   "metadata": {
    "execution": {
     "iopub.execute_input": "2022-08-17T12:45:40.707996Z",
     "iopub.status.busy": "2022-08-17T12:45:40.706972Z",
     "iopub.status.idle": "2022-08-17T12:45:40.951234Z",
     "shell.execute_reply": "2022-08-17T12:45:40.950457Z",
     "shell.execute_reply.started": "2022-08-17T12:26:49.886890Z"
    },
    "papermill": {
     "duration": 0.499959,
     "end_time": "2022-08-17T12:45:40.951443",
     "exception": false,
     "start_time": "2022-08-17T12:45:40.451484",
     "status": "completed"
    },
    "tags": []
   },
   "outputs": [],
   "source": [
    "sns.set_style('darkgrid')\n",
    "plt.figure(figsize = (8,6))\n",
    "sns.distplot(df.mpg, fit= norm)\n",
    "plt.show()"
   ]
  },
  {
   "cell_type": "code",
   "execution_count": null,
   "id": "welsh-knitting",
   "metadata": {
    "execution": {
     "iopub.execute_input": "2022-08-17T12:45:41.428038Z",
     "iopub.status.busy": "2022-08-17T12:45:41.427370Z",
     "iopub.status.idle": "2022-08-17T12:45:41.433176Z",
     "shell.execute_reply": "2022-08-17T12:45:41.433703Z",
     "shell.execute_reply.started": "2022-08-17T12:26:50.124955Z"
    },
    "papermill": {
     "duration": 0.232611,
     "end_time": "2022-08-17T12:45:41.433871",
     "exception": false,
     "start_time": "2022-08-17T12:45:41.201260",
     "status": "completed"
    },
    "tags": []
   },
   "outputs": [],
   "source": [
    "(mu, sigma) = norm.fit(df[\"mpg\"])\n",
    "print(\"mu: {} sigma = {}\".format(mu, sigma))"
   ]
  },
  {
   "cell_type": "code",
   "execution_count": null,
   "id": "advanced-sheet",
   "metadata": {
    "execution": {
     "iopub.execute_input": "2022-08-17T12:45:41.911665Z",
     "iopub.status.busy": "2022-08-17T12:45:41.910908Z",
     "iopub.status.idle": "2022-08-17T12:45:42.113854Z",
     "shell.execute_reply": "2022-08-17T12:45:42.114408Z",
     "shell.execute_reply.started": "2022-08-17T12:26:50.133510Z"
    },
    "papermill": {
     "duration": 0.449165,
     "end_time": "2022-08-17T12:45:42.114605",
     "exception": false,
     "start_time": "2022-08-17T12:45:41.665440",
     "status": "completed"
    },
    "tags": []
   },
   "outputs": [],
   "source": [
    "fig = plt.figure(figsize = (8,6))\n",
    "stats.probplot(df[\"mpg\"], plot = plt)\n",
    "plt.title(\"Before Log1p Transformation\", size = 12)\n",
    "plt.show()"
   ]
  },
  {
   "attachments": {
    "f8230df1-74c9-4db5-bfe5-a9a16ef654c4.png": {
     "image/png": "[encoded data removed]"
    }
   },
   "cell_type": "markdown",
   "id": "ambient-three",
   "metadata": {
    "papermill": {
     "duration": 0.223178,
     "end_time": "2022-08-17T12:45:42.571863",
     "exception": false,
     "start_time": "2022-08-17T12:45:42.348685",
     "status": "completed"
    },
    "tags": []
   },
   "source": [
    "<span style=\"color:#7DBCE6;\n",
    "             font-size:130%;\n",
    "             font-family:Verdana;\">\n",
    "Log1p Transformation\n",
    "    \n",
    "$$\\Huge y_i = {\\log_e (x_i+1)} $$\n",
    "    \n",
    "![image.png](attachment:f8230df1-74c9-4db5-bfe5-a9a16ef654c4.png)"
   ]
  },
  {
   "cell_type": "code",
   "execution_count": null,
   "id": "strong-hollywood",
   "metadata": {
    "execution": {
     "iopub.execute_input": "2022-08-17T12:45:43.046884Z",
     "iopub.status.busy": "2022-08-17T12:45:43.046096Z",
     "iopub.status.idle": "2022-08-17T12:45:43.279772Z",
     "shell.execute_reply": "2022-08-17T12:45:43.279087Z",
     "shell.execute_reply.started": "2022-08-17T12:26:50.345098Z"
    },
    "papermill": {
     "duration": 0.474901,
     "end_time": "2022-08-17T12:45:43.279959",
     "exception": false,
     "start_time": "2022-08-17T12:45:42.805058",
     "status": "completed"
    },
    "tags": []
   },
   "outputs": [],
   "source": [
    "df[\"mpg\"] = np.log1p(df[\"mpg\"])\n",
    "plt.figure(figsize = (8,6))\n",
    "sns.distplot(df.mpg, fit= norm)\n",
    "plt.show()"
   ]
  },
  {
   "cell_type": "code",
   "execution_count": null,
   "id": "mighty-spring",
   "metadata": {
    "execution": {
     "iopub.execute_input": "2022-08-17T12:45:43.753580Z",
     "iopub.status.busy": "2022-08-17T12:45:43.752872Z",
     "iopub.status.idle": "2022-08-17T12:45:43.759671Z",
     "shell.execute_reply": "2022-08-17T12:45:43.759016Z",
     "shell.execute_reply.started": "2022-08-17T12:26:50.577507Z"
    },
    "papermill": {
     "duration": 0.233665,
     "end_time": "2022-08-17T12:45:43.759825",
     "exception": false,
     "start_time": "2022-08-17T12:45:43.526160",
     "status": "completed"
    },
    "tags": []
   },
   "outputs": [],
   "source": [
    "(mu, sigma) = norm.fit(df[\"mpg\"])\n",
    "print(\"mu: {} sigma = {}\".format(mu, sigma))"
   ]
  },
  {
   "cell_type": "code",
   "execution_count": null,
   "id": "skilled-mileage",
   "metadata": {
    "execution": {
     "iopub.execute_input": "2022-08-17T12:45:44.237610Z",
     "iopub.status.busy": "2022-08-17T12:45:44.236876Z",
     "iopub.status.idle": "2022-08-17T12:45:44.459656Z",
     "shell.execute_reply": "2022-08-17T12:45:44.458991Z",
     "shell.execute_reply.started": "2022-08-17T12:26:50.586409Z"
    },
    "papermill": {
     "duration": 0.466264,
     "end_time": "2022-08-17T12:45:44.459810",
     "exception": false,
     "start_time": "2022-08-17T12:45:43.993546",
     "status": "completed"
    },
    "tags": []
   },
   "outputs": [],
   "source": [
    "fig = plt.figure(figsize = (8,6))\n",
    "stats.probplot(df[\"mpg\"], plot = plt)\n",
    "plt.title(\"After Log1p Transformation\", size = 12)\n",
    "plt.show()"
   ]
  },
  {
   "cell_type": "markdown",
   "id": "likely-voluntary",
   "metadata": {
    "papermill": {
     "duration": 0.228223,
     "end_time": "2022-08-17T12:45:44.935440",
     "exception": false,
     "start_time": "2022-08-17T12:45:44.707217",
     "status": "completed"
    },
    "tags": []
   },
   "source": [
    "<span style=\"color:#7DBCE6;\n",
    "             font-size:130%;\n",
    "             font-family:Verdana;\">\n",
    "Encoding"
   ]
  },
  {
   "cell_type": "code",
   "execution_count": null,
   "id": "resistant-evening",
   "metadata": {
    "execution": {
     "iopub.execute_input": "2022-08-17T12:45:45.431411Z",
     "iopub.status.busy": "2022-08-17T12:45:45.428120Z",
     "iopub.status.idle": "2022-08-17T12:45:45.437653Z",
     "shell.execute_reply": "2022-08-17T12:45:45.437016Z",
     "shell.execute_reply.started": "2022-08-17T12:26:50.813510Z"
    },
    "papermill": {
     "duration": 0.266578,
     "end_time": "2022-08-17T12:45:45.437799",
     "exception": false,
     "start_time": "2022-08-17T12:45:45.171221",
     "status": "completed"
    },
    "tags": []
   },
   "outputs": [],
   "source": [
    "def one_hot_encoder(dataframe, categorical_cols, drop_first=False):\n",
    "    dataframe = pd.get_dummies(dataframe,\n",
    "                               columns = categorical_cols,\n",
    "                               drop_first = drop_first)\n",
    "    return dataframe\n",
    "\n",
    "def label_encoder(dataframe, binary_col):\n",
    "    labelencoder = LabelEncoder()\n",
    "    dataframe[binary_col] = labelencoder.fit_transform(dataframe[binary_col])\n",
    "    return dataframe\n",
    "\n",
    "binary_cols = [col for col in df.columns if df[col].dtype not in [int, float]\n",
    "               and df[col].nunique() == 2]\n",
    "print('Binary Variables: {}'.format(binary_cols))\n",
    "\n",
    "ohe_cols = [col for col in df.columns if 10 >= df[col].nunique() > 2]\n",
    "ohe_cols.append('make')\n",
    "print('Multiclass Variables: {}'.format(ohe_cols))"
   ]
  },
  {
   "cell_type": "code",
   "execution_count": null,
   "id": "scientific-material",
   "metadata": {
    "execution": {
     "iopub.execute_input": "2022-08-17T12:45:45.905485Z",
     "iopub.status.busy": "2022-08-17T12:45:45.904779Z",
     "iopub.status.idle": "2022-08-17T12:45:45.934238Z",
     "shell.execute_reply": "2022-08-17T12:45:45.933537Z",
     "shell.execute_reply.started": "2022-08-17T12:26:50.828833Z"
    },
    "papermill": {
     "duration": 0.270855,
     "end_time": "2022-08-17T12:45:45.934400",
     "exception": false,
     "start_time": "2022-08-17T12:45:45.663545",
     "status": "completed"
    },
    "tags": []
   },
   "outputs": [],
   "source": [
    "df['cylinders'] = df['cylinders'].astype(int)\n",
    "df['origin'] = df['origin'].astype(int)\n",
    "df = one_hot_encoder(df, ohe_cols)\n",
    "df.head()"
   ]
  },
  {
   "cell_type": "code",
   "execution_count": null,
   "id": "contemporary-rapid",
   "metadata": {
    "execution": {
     "iopub.execute_input": "2022-08-17T12:45:46.413965Z",
     "iopub.status.busy": "2022-08-17T12:45:46.411206Z",
     "iopub.status.idle": "2022-08-17T12:45:46.436569Z",
     "shell.execute_reply": "2022-08-17T12:45:46.435905Z",
     "shell.execute_reply.started": "2022-08-17T12:26:51.440783Z"
    },
    "papermill": {
     "duration": 0.256276,
     "end_time": "2022-08-17T12:45:46.436717",
     "exception": false,
     "start_time": "2022-08-17T12:45:46.180441",
     "status": "completed"
    },
    "tags": []
   },
   "outputs": [],
   "source": [
    "check_class(df)"
   ]
  },
  {
   "cell_type": "code",
   "execution_count": null,
   "id": "compound-region",
   "metadata": {
    "execution": {
     "iopub.execute_input": "2022-08-17T12:45:46.925909Z",
     "iopub.status.busy": "2022-08-17T12:45:46.921078Z",
     "iopub.status.idle": "2022-08-17T12:45:46.946625Z",
     "shell.execute_reply": "2022-08-17T12:45:46.947877Z",
     "shell.execute_reply.started": "2022-08-17T12:26:51.474178Z"
    },
    "papermill": {
     "duration": 0.265295,
     "end_time": "2022-08-17T12:45:46.948153",
     "exception": false,
     "start_time": "2022-08-17T12:45:46.682858",
     "status": "completed"
    },
    "tags": []
   },
   "outputs": [],
   "source": [
    "cat_cols, num_cols, cat_but_car = grab_col_names(df)"
   ]
  },
  {
   "cell_type": "code",
   "execution_count": null,
   "id": "sublime-ground",
   "metadata": {
    "execution": {
     "iopub.execute_input": "2022-08-17T12:45:47.460247Z",
     "iopub.status.busy": "2022-08-17T12:45:47.459531Z",
     "iopub.status.idle": "2022-08-17T12:45:47.635973Z",
     "shell.execute_reply": "2022-08-17T12:45:47.636602Z",
     "shell.execute_reply.started": "2022-08-17T12:26:51.506514Z"
    },
    "papermill": {
     "duration": 0.440389,
     "end_time": "2022-08-17T12:45:47.636836",
     "exception": false,
     "start_time": "2022-08-17T12:45:47.196447",
     "status": "completed"
    },
    "tags": []
   },
   "outputs": [],
   "source": [
    "def rare_analyser(dataframe, cat_cols):\n",
    "    for col in cat_cols:\n",
    "        print(col, \":\", len(dataframe[col].value_counts()))\n",
    "        print(pd.DataFrame({\"COUNT\": dataframe[col].value_counts(),\n",
    "                            \"RATIO\": dataframe[col].value_counts() / len(dataframe)}), end=\"\\n\\n\\n\")\n",
    "\n",
    "rare_analyser(df, cat_cols)"
   ]
  },
  {
   "cell_type": "code",
   "execution_count": null,
   "id": "professional-corpus",
   "metadata": {
    "execution": {
     "iopub.execute_input": "2022-08-17T12:45:48.139876Z",
     "iopub.status.busy": "2022-08-17T12:45:48.134095Z",
     "iopub.status.idle": "2022-08-17T12:45:48.186882Z",
     "shell.execute_reply": "2022-08-17T12:45:48.185819Z",
     "shell.execute_reply.started": "2022-08-17T12:26:51.701467Z"
    },
    "papermill": {
     "duration": 0.290653,
     "end_time": "2022-08-17T12:45:48.187105",
     "exception": false,
     "start_time": "2022-08-17T12:45:47.896452",
     "status": "completed"
    },
    "tags": []
   },
   "outputs": [],
   "source": [
    "useless_cols = [col for col in df.columns if df[col].nunique() == 2 and\n",
    "                (df[col].value_counts() / len(df) < 0.03).any(axis=None)]\n",
    "\n",
    "print('Number of useless variables: {}'.format(len(useless_cols)))\n",
    "df.drop(useless_cols, axis=1, inplace=True)"
   ]
  },
  {
   "cell_type": "code",
   "execution_count": null,
   "id": "differential-teaching",
   "metadata": {
    "execution": {
     "iopub.execute_input": "2022-08-17T12:45:48.705396Z",
     "iopub.status.busy": "2022-08-17T12:45:48.704386Z",
     "iopub.status.idle": "2022-08-17T12:45:50.862964Z",
     "shell.execute_reply": "2022-08-17T12:45:50.863500Z",
     "shell.execute_reply.started": "2022-08-17T12:26:51.773579Z"
    },
    "papermill": {
     "duration": 2.40285,
     "end_time": "2022-08-17T12:45:50.863689",
     "exception": false,
     "start_time": "2022-08-17T12:45:48.460839",
     "status": "completed"
    },
    "tags": []
   },
   "outputs": [],
   "source": [
    "corr_map(df)"
   ]
  },
  {
   "cell_type": "markdown",
   "id": "nearby-earthquake",
   "metadata": {
    "papermill": {
     "duration": 0.253274,
     "end_time": "2022-08-17T12:45:51.388818",
     "exception": false,
     "start_time": "2022-08-17T12:45:51.135544",
     "status": "completed"
    },
    "tags": []
   },
   "source": [
    "<img src=\"https://media.giphy.com/media/6swcfDQHr3UTm/giphy.gif\">"
   ]
  },
  {
   "cell_type": "markdown",
   "id": "handmade-rebate",
   "metadata": {
    "papermill": {
     "duration": 0.257116,
     "end_time": "2022-08-17T12:45:51.903588",
     "exception": false,
     "start_time": "2022-08-17T12:45:51.646472",
     "status": "completed"
    },
    "tags": []
   },
   "source": [
    "<a id = \"16\"></a>\n",
    "<span style=\"color:#7DBCE6;\n",
    "             font-size:150%;\n",
    "             font-family:Verdana;\">\n",
    "Preprocessing\n",
    "    \n",
    "<span style=\"color:#7DBCE6;\n",
    "             font-size:130%;\n",
    "             font-family:Verdana;\">\n",
    "Train-Test Split"
   ]
  },
  {
   "cell_type": "code",
   "execution_count": null,
   "id": "original-spotlight",
   "metadata": {
    "execution": {
     "iopub.execute_input": "2022-08-17T12:45:52.408688Z",
     "iopub.status.busy": "2022-08-17T12:45:52.407720Z",
     "iopub.status.idle": "2022-08-17T12:45:52.428956Z",
     "shell.execute_reply": "2022-08-17T12:45:52.429553Z",
     "shell.execute_reply.started": "2022-08-17T12:26:53.979211Z"
    },
    "papermill": {
     "duration": 0.274281,
     "end_time": "2022-08-17T12:45:52.429746",
     "exception": false,
     "start_time": "2022-08-17T12:45:52.155465",
     "status": "completed"
    },
    "tags": []
   },
   "outputs": [],
   "source": [
    "X = df.drop(columns = [\"mpg\", 'name'], axis = 1)\n",
    "y = df['mpg']\n",
    "X.head()"
   ]
  },
  {
   "cell_type": "code",
   "execution_count": null,
   "id": "contained-mills",
   "metadata": {
    "execution": {
     "iopub.execute_input": "2022-08-17T12:45:52.933674Z",
     "iopub.status.busy": "2022-08-17T12:45:52.932958Z",
     "iopub.status.idle": "2022-08-17T12:45:52.939547Z",
     "shell.execute_reply": "2022-08-17T12:45:52.940107Z",
     "shell.execute_reply.started": "2022-08-17T12:26:54.012494Z"
    },
    "papermill": {
     "duration": 0.251107,
     "end_time": "2022-08-17T12:45:52.940294",
     "exception": false,
     "start_time": "2022-08-17T12:45:52.689187",
     "status": "completed"
    },
    "tags": []
   },
   "outputs": [],
   "source": [
    "test_size = 0.2\n",
    "random_state = 42\n",
    "X_train, X_test, y_train, y_test = train_test_split(X,\n",
    "                                                    y,\n",
    "                                                    test_size  = test_size,\n",
    "                                                    random_state = random_state)"
   ]
  },
  {
   "cell_type": "markdown",
   "id": "experienced-afternoon",
   "metadata": {
    "papermill": {
     "duration": 0.248636,
     "end_time": "2022-08-17T12:45:53.436868",
     "exception": false,
     "start_time": "2022-08-17T12:45:53.188232",
     "status": "completed"
    },
    "tags": []
   },
   "source": [
    "<a id = \"19\"></a>\n",
    "<span style=\"color:#7DBCE6;\n",
    "             font-size:150%;\n",
    "             font-family:Verdana;\">\n",
    "Modeling"
   ]
  },
  {
   "cell_type": "code",
   "execution_count": null,
   "id": "interstate-catalyst",
   "metadata": {
    "execution": {
     "iopub.execute_input": "2022-08-17T12:45:53.940845Z",
     "iopub.status.busy": "2022-08-17T12:45:53.939781Z",
     "iopub.status.idle": "2022-08-17T12:45:54.637694Z",
     "shell.execute_reply": "2022-08-17T12:45:54.638995Z",
     "shell.execute_reply.started": "2022-08-17T12:26:54.022179Z"
    },
    "papermill": {
     "duration": 0.95551,
     "end_time": "2022-08-17T12:45:54.639243",
     "exception": false,
     "start_time": "2022-08-17T12:45:53.683733",
     "status": "completed"
    },
    "tags": []
   },
   "outputs": [],
   "source": [
    "def train_pipeline(pipe):\n",
    "    \n",
    "    scaler = pipe.steps[0][1].__class__.__name__\n",
    "    regressor = pipe.steps[1][1].__class__.__name__\n",
    "    if scaler == 'NoneType':\n",
    "        scaler = 'Without Scaling'\n",
    "    print(f'Regressor: {regressor} & Scaler: {scaler}')\n",
    "    \n",
    "    #Fitting Model\n",
    "    pipe.fit(X_train, y_train)\n",
    "    \n",
    "    #Get Predictions\n",
    "    y_pred = pipe.predict(X_test)\n",
    "    \n",
    "    #Model Evaluation\n",
    "    print(f'R-Squared: {round(r2_score(y_test, y_pred), 6)}')\n",
    "    print(f'RMSE: {round(mean_squared_error(y_test, y_pred, squared = False), 6)}')\n",
    "    print(f'MAPE: {round(mean_absolute_percentage_error(y_test, y_pred), 6)}\\n')\n",
    "    \n",
    "regressors = [KNeighborsRegressor(),\n",
    "               LinearRegression(),\n",
    "               Lasso(),\n",
    "               Ridge(),\n",
    "               ElasticNet(),\n",
    "               XGBRegressor(),\n",
    "               LGBMRegressor()]\n",
    "\n",
    "scalers = [None, StandardScaler(), RobustScaler()]\n",
    "\n",
    "for reg in regressors:\n",
    "    for sc in scalers:\n",
    "        pipeline = Pipeline([('scaler', sc), ('reg', reg)])\n",
    "        train_pipeline(pipeline)"
   ]
  },
  {
   "cell_type": "markdown",
   "id": "gorgeous-increase",
   "metadata": {
    "papermill": {
     "duration": 0.238148,
     "end_time": "2022-08-17T12:45:55.139662",
     "exception": false,
     "start_time": "2022-08-17T12:45:54.901514",
     "status": "completed"
    },
    "tags": []
   },
   "source": [
    "<span style=\"color:#7DBCE6;\n",
    "             font-size:110%;\n",
    "             font-family:Verdana;\">\n",
    "If you liked this notebook, please upvote 😊\n",
    "    \n",
    "<span style=\"color:#7DBCE6;\n",
    "             font-size:110%;\n",
    "             font-family:Verdana;\">\n",
    "If you have any suggestions or questions, feel free to comment!\n",
    "    \n",
    "<span style=\"color:#7DBCE6;\n",
    "             font-size:110%;\n",
    "             font-family:Verdana;\">\n",
    "Best Wishes!\n",
    "\n"
   ]
  }
 ],
 "metadata": {
  "kernelspec": {
   "display_name": "Python 3 (ipykernel)",
   "language": "python",
   "name": "python3"
  },
  "language_info": {
   "codemirror_mode": {
    "name": "ipython",
    "version": 3
   },
   "file_extension": ".py",
   "mimetype": "text/x-python",
   "name": "python",
   "nbconvert_exporter": "python",
   "pygments_lexer": "ipython3",
   "version": "3.9.12"
  },
  "papermill": {
   "default_parameters": {},
   "duration": 72.887736,
   "end_time": "2022-08-17T12:45:56.906570",
   "environment_variables": {},
   "exception": null,
   "input_path": "__notebook__.ipynb",
   "output_path": "__notebook__.ipynb",
   "parameters": {},
   "start_time": "2022-08-17T12:44:44.018834",
   "version": "2.3.2"
  },
  "widgets": {
   "application/vnd.jupyter.widget-state+json": {
    "state": {
     "09b2904c07174cb39929c10dfb89caba": {
      "model_module": "@jupyter-widgets/base",
      "model_module_version": "1.2.0",
      "model_name": "LayoutModel",
      "state": {
       "_model_module": "@jupyter-widgets/base",
       "_model_module_version": "1.2.0",
       "_model_name": "LayoutModel",
       "_view_count": null,
       "_view_module": "@jupyter-widgets/base",
       "_view_module_version": "1.2.0",
       "_view_name": "LayoutView",
       "align_content": null,
       "align_items": null,
       "align_self": null,
       "border": null,
       "bottom": null,
       "display": null,
       "flex": null,
       "flex_flow": null,
       "grid_area": null,
       "grid_auto_columns": null,
       "grid_auto_flow": null,
       "grid_auto_rows": null,
       "grid_column": null,
       "grid_gap": null,
       "grid_row": null,
       "grid_template_areas": null,
       "grid_template_columns": null,
       "grid_template_rows": null,
       "height": null,
       "justify_content": null,
       "justify_items": null,
       "left": null,
       "margin": null,
       "max_height": null,
       "max_width": null,
       "min_height": null,
       "min_width": null,
       "object_fit": null,
       "object_position": null,
       "order": null,
       "overflow": null,
       "overflow_x": null,
       "overflow_y": null,
       "padding": null,
       "right": null,
       "top": null,
       "visibility": null,
       "width": null
      }
     },
     "167777745fbf4050b900e3d0dcd85b1a": {
      "model_module": "@jupyter-widgets/controls",
      "model_module_version": "1.5.0",
      "model_name": "DescriptionStyleModel",
      "state": {
       "_model_module": "@jupyter-widgets/controls",
       "_model_module_version": "1.5.0",
       "_model_name": "DescriptionStyleModel",
       "_view_count": null,
       "_view_module": "@jupyter-widgets/base",
       "_view_module_version": "1.2.0",
       "_view_name": "StyleView",
       "description_width": ""
      }
     },
     "17876af14f0f49a3bb0c0338b931f75d": {
      "model_module": "@jupyter-widgets/base",
      "model_module_version": "1.2.0",
      "model_name": "LayoutModel",
      "state": {
       "_model_module": "@jupyter-widgets/base",
       "_model_module_version": "1.2.0",
       "_model_name": "LayoutModel",
       "_view_count": null,
       "_view_module": "@jupyter-widgets/base",
       "_view_module_version": "1.2.0",
       "_view_name": "LayoutView",
       "align_content": null,
       "align_items": null,
       "align_self": null,
       "border": null,
       "bottom": null,
       "display": null,
       "flex": null,
       "flex_flow": null,
       "grid_area": null,
       "grid_auto_columns": null,
       "grid_auto_flow": null,
       "grid_auto_rows": null,
       "grid_column": null,
       "grid_gap": null,
       "grid_row": null,
       "grid_template_areas": null,
       "grid_template_columns": null,
       "grid_template_rows": null,
       "height": null,
       "justify_content": null,
       "justify_items": null,
       "left": null,
       "margin": null,
       "max_height": null,
       "max_width": null,
       "min_height": null,
       "min_width": null,
       "object_fit": null,
       "object_position": null,
       "order": null,
       "overflow": null,
       "overflow_x": null,
       "overflow_y": null,
       "padding": null,
       "right": null,
       "top": null,
       "visibility": null,
       "width": null
      }
     },
     "23cf2fab972c4cf7b93525e3b99f76c9": {
      "model_module": "@jupyter-widgets/controls",
      "model_module_version": "1.5.0",
      "model_name": "FloatProgressModel",
      "state": {
       "_dom_classes": [],
       "_model_module": "@jupyter-widgets/controls",
       "_model_module_version": "1.5.0",
       "_model_name": "FloatProgressModel",
       "_view_count": null,
       "_view_module": "@jupyter-widgets/controls",
       "_view_module_version": "1.5.0",
       "_view_name": "ProgressView",
       "bar_style": "success",
       "description": "",
       "description_tooltip": null,
       "layout": "IPY_MODEL_17876af14f0f49a3bb0c0338b931f75d",
       "max": 24,
       "min": 0,
       "orientation": "horizontal",
       "style": "IPY_MODEL_71f9e4d26486422584230c2e6626e685",
       "value": 24
      }
     },
     "32fc0a3305a84c68a8e541e56c359aea": {
      "model_module": "@jupyter-widgets/controls",
      "model_module_version": "1.5.0",
      "model_name": "DescriptionStyleModel",
      "state": {
       "_model_module": "@jupyter-widgets/controls",
       "_model_module_version": "1.5.0",
       "_model_name": "DescriptionStyleModel",
       "_view_count": null,
       "_view_module": "@jupyter-widgets/base",
       "_view_module_version": "1.2.0",
       "_view_name": "StyleView",
       "description_width": ""
      }
     },
     "4c38235ec95c4387ac0f327b632f8fb7": {
      "model_module": "@jupyter-widgets/base",
      "model_module_version": "1.2.0",
      "model_name": "LayoutModel",
      "state": {
       "_model_module": "@jupyter-widgets/base",
       "_model_module_version": "1.2.0",
       "_model_name": "LayoutModel",
       "_view_count": null,
       "_view_module": "@jupyter-widgets/base",
       "_view_module_version": "1.2.0",
       "_view_name": "LayoutView",
       "align_content": null,
       "align_items": null,
       "align_self": null,
       "border": null,
       "bottom": null,
       "display": null,
       "flex": null,
       "flex_flow": null,
       "grid_area": null,
       "grid_auto_columns": null,
       "grid_auto_flow": null,
       "grid_auto_rows": null,
       "grid_column": null,
       "grid_gap": null,
       "grid_row": null,
       "grid_template_areas": null,
       "grid_template_columns": null,
       "grid_template_rows": null,
       "height": null,
       "justify_content": null,
       "justify_items": null,
       "left": null,
       "margin": null,
       "max_height": null,
       "max_width": null,
       "min_height": null,
       "min_width": null,
       "object_fit": null,
       "object_position": null,
       "order": null,
       "overflow": null,
       "overflow_x": null,
       "overflow_y": null,
       "padding": null,
       "right": null,
       "top": null,
       "visibility": null,
       "width": null
      }
     },
     "500dffe237e94f3fb122e05cdfb0c0a2": {
      "model_module": "@jupyter-widgets/controls",
      "model_module_version": "1.5.0",
      "model_name": "ProgressStyleModel",
      "state": {
       "_model_module": "@jupyter-widgets/controls",
       "_model_module_version": "1.5.0",
       "_model_name": "ProgressStyleModel",
       "_view_count": null,
       "_view_module": "@jupyter-widgets/base",
       "_view_module_version": "1.2.0",
       "_view_name": "StyleView",
       "bar_color": null,
       "description_width": ""
      }
     },
     "52057f4c6f2f4276b55215b33e93ae3a": {
      "model_module": "@jupyter-widgets/base",
      "model_module_version": "1.2.0",
      "model_name": "LayoutModel",
      "state": {
       "_model_module": "@jupyter-widgets/base",
       "_model_module_version": "1.2.0",
       "_model_name": "LayoutModel",
       "_view_count": null,
       "_view_module": "@jupyter-widgets/base",
       "_view_module_version": "1.2.0",
       "_view_name": "LayoutView",
       "align_content": null,
       "align_items": null,
       "align_self": null,
       "border": null,
       "bottom": null,
       "display": null,
       "flex": null,
       "flex_flow": null,
       "grid_area": null,
       "grid_auto_columns": null,
       "grid_auto_flow": null,
       "grid_auto_rows": null,
       "grid_column": null,
       "grid_gap": null,
       "grid_row": null,
       "grid_template_areas": null,
       "grid_template_columns": null,
       "grid_template_rows": null,
       "height": null,
       "justify_content": null,
       "justify_items": null,
       "left": null,
       "margin": null,
       "max_height": null,
       "max_width": null,
       "min_height": null,
       "min_width": null,
       "object_fit": null,
       "object_position": null,
       "order": null,
       "overflow": null,
       "overflow_x": null,
       "overflow_y": null,
       "padding": null,
       "right": null,
       "top": null,
       "visibility": null,
       "width": null
      }
     },
     "52adf0a9d6cc44f3a2b4bda385502449": {
      "model_module": "@jupyter-widgets/controls",
      "model_module_version": "1.5.0",
      "model_name": "ProgressStyleModel",
      "state": {
       "_model_module": "@jupyter-widgets/controls",
       "_model_module_version": "1.5.0",
       "_model_name": "ProgressStyleModel",
       "_view_count": null,
       "_view_module": "@jupyter-widgets/base",
       "_view_module_version": "1.2.0",
       "_view_name": "StyleView",
       "bar_color": null,
       "description_width": ""
      }
     },
     "55fb2724ce9e4341879484c84c6d1ef5": {
      "model_module": "@jupyter-widgets/base",
      "model_module_version": "1.2.0",
      "model_name": "LayoutModel",
      "state": {
       "_model_module": "@jupyter-widgets/base",
       "_model_module_version": "1.2.0",
       "_model_name": "LayoutModel",
       "_view_count": null,
       "_view_module": "@jupyter-widgets/base",
       "_view_module_version": "1.2.0",
       "_view_name": "LayoutView",
       "align_content": null,
       "align_items": null,
       "align_self": null,
       "border": null,
       "bottom": null,
       "display": null,
       "flex": null,
       "flex_flow": null,
       "grid_area": null,
       "grid_auto_columns": null,
       "grid_auto_flow": null,
       "grid_auto_rows": null,
       "grid_column": null,
       "grid_gap": null,
       "grid_row": null,
       "grid_template_areas": null,
       "grid_template_columns": null,
       "grid_template_rows": null,
       "height": null,
       "justify_content": null,
       "justify_items": null,
       "left": null,
       "margin": null,
       "max_height": null,
       "max_width": null,
       "min_height": null,
       "min_width": null,
       "object_fit": null,
       "object_position": null,
       "order": null,
       "overflow": null,
       "overflow_x": null,
       "overflow_y": null,
       "padding": null,
       "right": null,
       "top": null,
       "visibility": null,
       "width": null
      }
     },
     "570f131f3bbb489cbd0048626355e048": {
      "model_module": "@jupyter-widgets/controls",
      "model_module_version": "1.5.0",
      "model_name": "HBoxModel",
      "state": {
       "_dom_classes": [],
       "_model_module": "@jupyter-widgets/controls",
       "_model_module_version": "1.5.0",
       "_model_name": "HBoxModel",
       "_view_count": null,
       "_view_module": "@jupyter-widgets/controls",
       "_view_module_version": "1.5.0",
       "_view_name": "HBoxView",
       "box_style": "",
       "children": [
        "IPY_MODEL_885651427355477d90691d1459463bbd",
        "IPY_MODEL_23cf2fab972c4cf7b93525e3b99f76c9",
        "IPY_MODEL_dfcdfa5c180f41259c3aa3b4de01abec"
       ],
       "layout": "IPY_MODEL_55fb2724ce9e4341879484c84c6d1ef5"
      }
     },
     "59196801b17a4cc3b6c3eab349e3894f": {
      "model_module": "@jupyter-widgets/controls",
      "model_module_version": "1.5.0",
      "model_name": "DescriptionStyleModel",
      "state": {
       "_model_module": "@jupyter-widgets/controls",
       "_model_module_version": "1.5.0",
       "_model_name": "DescriptionStyleModel",
       "_view_count": null,
       "_view_module": "@jupyter-widgets/base",
       "_view_module_version": "1.2.0",
       "_view_name": "StyleView",
       "description_width": ""
      }
     },
     "5eb2cfa9fc394818a6fa4c41a5b8ae1c": {
      "model_module": "@jupyter-widgets/controls",
      "model_module_version": "1.5.0",
      "model_name": "HBoxModel",
      "state": {
       "_dom_classes": [],
       "_model_module": "@jupyter-widgets/controls",
       "_model_module_version": "1.5.0",
       "_model_name": "HBoxModel",
       "_view_count": null,
       "_view_module": "@jupyter-widgets/controls",
       "_view_module_version": "1.5.0",
       "_view_name": "HBoxView",
       "box_style": "",
       "children": [
        "IPY_MODEL_ea0bf008abe348f4b23c3f1447b2fb7e",
        "IPY_MODEL_e56d713bc8bd49a598da8cf874f58df7",
        "IPY_MODEL_af394bce93874be891f5000f48da957b"
       ],
       "layout": "IPY_MODEL_f579d7ed72834ad793dc988d317b7b32"
      }
     },
     "6b5d1ad48a7d4011a9903676b73ba0fb": {
      "model_module": "@jupyter-widgets/controls",
      "model_module_version": "1.5.0",
      "model_name": "HTMLModel",
      "state": {
       "_dom_classes": [],
       "_model_module": "@jupyter-widgets/controls",
       "_model_module_version": "1.5.0",
       "_model_name": "HTMLModel",
       "_view_count": null,
       "_view_module": "@jupyter-widgets/controls",
       "_view_module_version": "1.5.0",
       "_view_name": "HTMLView",
       "description": "",
       "description_tooltip": null,
       "layout": "IPY_MODEL_ca094e1e65834572833086b494ad8e79",
       "placeholder": "​",
       "style": "IPY_MODEL_eb4f6f427243405ab071d9bc59549462",
       "value": "Generate report structure: 100%"
      }
     },
     "6cc24bce5e4d4be19f19e6f727192188": {
      "model_module": "@jupyter-widgets/controls",
      "model_module_version": "1.5.0",
      "model_name": "DescriptionStyleModel",
      "state": {
       "_model_module": "@jupyter-widgets/controls",
       "_model_module_version": "1.5.0",
       "_model_name": "DescriptionStyleModel",
       "_view_count": null,
       "_view_module": "@jupyter-widgets/base",
       "_view_module_version": "1.2.0",
       "_view_name": "StyleView",
       "description_width": ""
      }
     },
     "71f9e4d26486422584230c2e6626e685": {
      "model_module": "@jupyter-widgets/controls",
      "model_module_version": "1.5.0",
      "model_name": "ProgressStyleModel",
      "state": {
       "_model_module": "@jupyter-widgets/controls",
       "_model_module_version": "1.5.0",
       "_model_name": "ProgressStyleModel",
       "_view_count": null,
       "_view_module": "@jupyter-widgets/base",
       "_view_module_version": "1.2.0",
       "_view_name": "StyleView",
       "bar_color": null,
       "description_width": ""
      }
     },
     "7237c216366645f5adddc42992870b99": {
      "model_module": "@jupyter-widgets/controls",
      "model_module_version": "1.5.0",
      "model_name": "FloatProgressModel",
      "state": {
       "_dom_classes": [],
       "_model_module": "@jupyter-widgets/controls",
       "_model_module_version": "1.5.0",
       "_model_name": "FloatProgressModel",
       "_view_count": null,
       "_view_module": "@jupyter-widgets/controls",
       "_view_module_version": "1.5.0",
       "_view_name": "ProgressView",
       "bar_style": "success",
       "description": "",
       "description_tooltip": null,
       "layout": "IPY_MODEL_09b2904c07174cb39929c10dfb89caba",
       "max": 1,
       "min": 0,
       "orientation": "horizontal",
       "style": "IPY_MODEL_52adf0a9d6cc44f3a2b4bda385502449",
       "value": 1
      }
     },
     "747b1ffbc30f4c7b8bdb3891c69bd705": {
      "model_module": "@jupyter-widgets/controls",
      "model_module_version": "1.5.0",
      "model_name": "HTMLModel",
      "state": {
       "_dom_classes": [],
       "_model_module": "@jupyter-widgets/controls",
       "_model_module_version": "1.5.0",
       "_model_name": "HTMLModel",
       "_view_count": null,
       "_view_module": "@jupyter-widgets/controls",
       "_view_module_version": "1.5.0",
       "_view_name": "HTMLView",
       "description": "",
       "description_tooltip": null,
       "layout": "IPY_MODEL_e18f2177b44147ada535eb73b85a35a2",
       "placeholder": "​",
       "style": "IPY_MODEL_167777745fbf4050b900e3d0dcd85b1a",
       "value": " 1/1 [00:03&lt;00:00,  3.29s/it]"
      }
     },
     "816868b35b8843bd97646f67d93debc0": {
      "model_module": "@jupyter-widgets/controls",
      "model_module_version": "1.5.0",
      "model_name": "HBoxModel",
      "state": {
       "_dom_classes": [],
       "_model_module": "@jupyter-widgets/controls",
       "_model_module_version": "1.5.0",
       "_model_name": "HBoxModel",
       "_view_count": null,
       "_view_module": "@jupyter-widgets/controls",
       "_view_module_version": "1.5.0",
       "_view_name": "HBoxView",
       "box_style": "",
       "children": [
        "IPY_MODEL_6b5d1ad48a7d4011a9903676b73ba0fb",
        "IPY_MODEL_7237c216366645f5adddc42992870b99",
        "IPY_MODEL_747b1ffbc30f4c7b8bdb3891c69bd705"
       ],
       "layout": "IPY_MODEL_52057f4c6f2f4276b55215b33e93ae3a"
      }
     },
     "885651427355477d90691d1459463bbd": {
      "model_module": "@jupyter-widgets/controls",
      "model_module_version": "1.5.0",
      "model_name": "HTMLModel",
      "state": {
       "_dom_classes": [],
       "_model_module": "@jupyter-widgets/controls",
       "_model_module_version": "1.5.0",
       "_model_name": "HTMLModel",
       "_view_count": null,
       "_view_module": "@jupyter-widgets/controls",
       "_view_module_version": "1.5.0",
       "_view_name": "HTMLView",
       "description": "",
       "description_tooltip": null,
       "layout": "IPY_MODEL_4c38235ec95c4387ac0f327b632f8fb7",
       "placeholder": "​",
       "style": "IPY_MODEL_f3625be340f543a6b227e8a2e0314233",
       "value": "Summarize dataset: 100%"
      }
     },
     "a1d8589fd2a3409c8e93723113f959fa": {
      "model_module": "@jupyter-widgets/base",
      "model_module_version": "1.2.0",
      "model_name": "LayoutModel",
      "state": {
       "_model_module": "@jupyter-widgets/base",
       "_model_module_version": "1.2.0",
       "_model_name": "LayoutModel",
       "_view_count": null,
       "_view_module": "@jupyter-widgets/base",
       "_view_module_version": "1.2.0",
       "_view_name": "LayoutView",
       "align_content": null,
       "align_items": null,
       "align_self": null,
       "border": null,
       "bottom": null,
       "display": null,
       "flex": null,
       "flex_flow": null,
       "grid_area": null,
       "grid_auto_columns": null,
       "grid_auto_flow": null,
       "grid_auto_rows": null,
       "grid_column": null,
       "grid_gap": null,
       "grid_row": null,
       "grid_template_areas": null,
       "grid_template_columns": null,
       "grid_template_rows": null,
       "height": null,
       "justify_content": null,
       "justify_items": null,
       "left": null,
       "margin": null,
       "max_height": null,
       "max_width": null,
       "min_height": null,
       "min_width": null,
       "object_fit": null,
       "object_position": null,
       "order": null,
       "overflow": null,
       "overflow_x": null,
       "overflow_y": null,
       "padding": null,
       "right": null,
       "top": null,
       "visibility": null,
       "width": null
      }
     },
     "adabdabd5b094a26b8f02e95656fa14d": {
      "model_module": "@jupyter-widgets/base",
      "model_module_version": "1.2.0",
      "model_name": "LayoutModel",
      "state": {
       "_model_module": "@jupyter-widgets/base",
       "_model_module_version": "1.2.0",
       "_model_name": "LayoutModel",
       "_view_count": null,
       "_view_module": "@jupyter-widgets/base",
       "_view_module_version": "1.2.0",
       "_view_name": "LayoutView",
       "align_content": null,
       "align_items": null,
       "align_self": null,
       "border": null,
       "bottom": null,
       "display": null,
       "flex": null,
       "flex_flow": null,
       "grid_area": null,
       "grid_auto_columns": null,
       "grid_auto_flow": null,
       "grid_auto_rows": null,
       "grid_column": null,
       "grid_gap": null,
       "grid_row": null,
       "grid_template_areas": null,
       "grid_template_columns": null,
       "grid_template_rows": null,
       "height": null,
       "justify_content": null,
       "justify_items": null,
       "left": null,
       "margin": null,
       "max_height": null,
       "max_width": null,
       "min_height": null,
       "min_width": null,
       "object_fit": null,
       "object_position": null,
       "order": null,
       "overflow": null,
       "overflow_x": null,
       "overflow_y": null,
       "padding": null,
       "right": null,
       "top": null,
       "visibility": null,
       "width": null
      }
     },
     "af394bce93874be891f5000f48da957b": {
      "model_module": "@jupyter-widgets/controls",
      "model_module_version": "1.5.0",
      "model_name": "HTMLModel",
      "state": {
       "_dom_classes": [],
       "_model_module": "@jupyter-widgets/controls",
       "_model_module_version": "1.5.0",
       "_model_name": "HTMLModel",
       "_view_count": null,
       "_view_module": "@jupyter-widgets/controls",
       "_view_module_version": "1.5.0",
       "_view_name": "HTMLView",
       "description": "",
       "description_tooltip": null,
       "layout": "IPY_MODEL_d5d85d3b691a4582b03972ed71ab4938",
       "placeholder": "​",
       "style": "IPY_MODEL_32fc0a3305a84c68a8e541e56c359aea",
       "value": " 1/1 [00:02&lt;00:00,  2.00s/it]"
      }
     },
     "ca094e1e65834572833086b494ad8e79": {
      "model_module": "@jupyter-widgets/base",
      "model_module_version": "1.2.0",
      "model_name": "LayoutModel",
      "state": {
       "_model_module": "@jupyter-widgets/base",
       "_model_module_version": "1.2.0",
       "_model_name": "LayoutModel",
       "_view_count": null,
       "_view_module": "@jupyter-widgets/base",
       "_view_module_version": "1.2.0",
       "_view_name": "LayoutView",
       "align_content": null,
       "align_items": null,
       "align_self": null,
       "border": null,
       "bottom": null,
       "display": null,
       "flex": null,
       "flex_flow": null,
       "grid_area": null,
       "grid_auto_columns": null,
       "grid_auto_flow": null,
       "grid_auto_rows": null,
       "grid_column": null,
       "grid_gap": null,
       "grid_row": null,
       "grid_template_areas": null,
       "grid_template_columns": null,
       "grid_template_rows": null,
       "height": null,
       "justify_content": null,
       "justify_items": null,
       "left": null,
       "margin": null,
       "max_height": null,
       "max_width": null,
       "min_height": null,
       "min_width": null,
       "object_fit": null,
       "object_position": null,
       "order": null,
       "overflow": null,
       "overflow_x": null,
       "overflow_y": null,
       "padding": null,
       "right": null,
       "top": null,
       "visibility": null,
       "width": null
      }
     },
     "d5d85d3b691a4582b03972ed71ab4938": {
      "model_module": "@jupyter-widgets/base",
      "model_module_version": "1.2.0",
      "model_name": "LayoutModel",
      "state": {
       "_model_module": "@jupyter-widgets/base",
       "_model_module_version": "1.2.0",
       "_model_name": "LayoutModel",
       "_view_count": null,
       "_view_module": "@jupyter-widgets/base",
       "_view_module_version": "1.2.0",
       "_view_name": "LayoutView",
       "align_content": null,
       "align_items": null,
       "align_self": null,
       "border": null,
       "bottom": null,
       "display": null,
       "flex": null,
       "flex_flow": null,
       "grid_area": null,
       "grid_auto_columns": null,
       "grid_auto_flow": null,
       "grid_auto_rows": null,
       "grid_column": null,
       "grid_gap": null,
       "grid_row": null,
       "grid_template_areas": null,
       "grid_template_columns": null,
       "grid_template_rows": null,
       "height": null,
       "justify_content": null,
       "justify_items": null,
       "left": null,
       "margin": null,
       "max_height": null,
       "max_width": null,
       "min_height": null,
       "min_width": null,
       "object_fit": null,
       "object_position": null,
       "order": null,
       "overflow": null,
       "overflow_x": null,
       "overflow_y": null,
       "padding": null,
       "right": null,
       "top": null,
       "visibility": null,
       "width": null
      }
     },
     "dfcdfa5c180f41259c3aa3b4de01abec": {
      "model_module": "@jupyter-widgets/controls",
      "model_module_version": "1.5.0",
      "model_name": "HTMLModel",
      "state": {
       "_dom_classes": [],
       "_model_module": "@jupyter-widgets/controls",
       "_model_module_version": "1.5.0",
       "_model_name": "HTMLModel",
       "_view_count": null,
       "_view_module": "@jupyter-widgets/controls",
       "_view_module_version": "1.5.0",
       "_view_name": "HTMLView",
       "description": "",
       "description_tooltip": null,
       "layout": "IPY_MODEL_faea7be120774041aa9f0c691f8330e0",
       "placeholder": "​",
       "style": "IPY_MODEL_6cc24bce5e4d4be19f19e6f727192188",
       "value": " 24/24 [00:13&lt;00:00,  1.21it/s, Completed]"
      }
     },
     "e18f2177b44147ada535eb73b85a35a2": {
      "model_module": "@jupyter-widgets/base",
      "model_module_version": "1.2.0",
      "model_name": "LayoutModel",
      "state": {
       "_model_module": "@jupyter-widgets/base",
       "_model_module_version": "1.2.0",
       "_model_name": "LayoutModel",
       "_view_count": null,
       "_view_module": "@jupyter-widgets/base",
       "_view_module_version": "1.2.0",
       "_view_name": "LayoutView",
       "align_content": null,
       "align_items": null,
       "align_self": null,
       "border": null,
       "bottom": null,
       "display": null,
       "flex": null,
       "flex_flow": null,
       "grid_area": null,
       "grid_auto_columns": null,
       "grid_auto_flow": null,
       "grid_auto_rows": null,
       "grid_column": null,
       "grid_gap": null,
       "grid_row": null,
       "grid_template_areas": null,
       "grid_template_columns": null,
       "grid_template_rows": null,
       "height": null,
       "justify_content": null,
       "justify_items": null,
       "left": null,
       "margin": null,
       "max_height": null,
       "max_width": null,
       "min_height": null,
       "min_width": null,
       "object_fit": null,
       "object_position": null,
       "order": null,
       "overflow": null,
       "overflow_x": null,
       "overflow_y": null,
       "padding": null,
       "right": null,
       "top": null,
       "visibility": null,
       "width": null
      }
     },
     "e56d713bc8bd49a598da8cf874f58df7": {
      "model_module": "@jupyter-widgets/controls",
      "model_module_version": "1.5.0",
      "model_name": "FloatProgressModel",
      "state": {
       "_dom_classes": [],
       "_model_module": "@jupyter-widgets/controls",
       "_model_module_version": "1.5.0",
       "_model_name": "FloatProgressModel",
       "_view_count": null,
       "_view_module": "@jupyter-widgets/controls",
       "_view_module_version": "1.5.0",
       "_view_name": "ProgressView",
       "bar_style": "success",
       "description": "",
       "description_tooltip": null,
       "layout": "IPY_MODEL_adabdabd5b094a26b8f02e95656fa14d",
       "max": 1,
       "min": 0,
       "orientation": "horizontal",
       "style": "IPY_MODEL_500dffe237e94f3fb122e05cdfb0c0a2",
       "value": 1
      }
     },
     "ea0bf008abe348f4b23c3f1447b2fb7e": {
      "model_module": "@jupyter-widgets/controls",
      "model_module_version": "1.5.0",
      "model_name": "HTMLModel",
      "state": {
       "_dom_classes": [],
       "_model_module": "@jupyter-widgets/controls",
       "_model_module_version": "1.5.0",
       "_model_name": "HTMLModel",
       "_view_count": null,
       "_view_module": "@jupyter-widgets/controls",
       "_view_module_version": "1.5.0",
       "_view_name": "HTMLView",
       "description": "",
       "description_tooltip": null,
       "layout": "IPY_MODEL_a1d8589fd2a3409c8e93723113f959fa",
       "placeholder": "​",
       "style": "IPY_MODEL_59196801b17a4cc3b6c3eab349e3894f",
       "value": "Render HTML: 100%"
      }
     },
     "eb4f6f427243405ab071d9bc59549462": {
      "model_module": "@jupyter-widgets/controls",
      "model_module_version": "1.5.0",
      "model_name": "DescriptionStyleModel",
      "state": {
       "_model_module": "@jupyter-widgets/controls",
       "_model_module_version": "1.5.0",
       "_model_name": "DescriptionStyleModel",
       "_view_count": null,
       "_view_module": "@jupyter-widgets/base",
       "_view_module_version": "1.2.0",
       "_view_name": "StyleView",
       "description_width": ""
      }
     },
     "f3625be340f543a6b227e8a2e0314233": {
      "model_module": "@jupyter-widgets/controls",
      "model_module_version": "1.5.0",
      "model_name": "DescriptionStyleModel",
      "state": {
       "_model_module": "@jupyter-widgets/controls",
       "_model_module_version": "1.5.0",
       "_model_name": "DescriptionStyleModel",
       "_view_count": null,
       "_view_module": "@jupyter-widgets/base",
       "_view_module_version": "1.2.0",
       "_view_name": "StyleView",
       "description_width": ""
      }
     },
     "f579d7ed72834ad793dc988d317b7b32": {
      "model_module": "@jupyter-widgets/base",
      "model_module_version": "1.2.0",
      "model_name": "LayoutModel",
      "state": {
       "_model_module": "@jupyter-widgets/base",
       "_model_module_version": "1.2.0",
       "_model_name": "LayoutModel",
       "_view_count": null,
       "_view_module": "@jupyter-widgets/base",
       "_view_module_version": "1.2.0",
       "_view_name": "LayoutView",
       "align_content": null,
       "align_items": null,
       "align_self": null,
       "border": null,
       "bottom": null,
       "display": null,
       "flex": null,
       "flex_flow": null,
       "grid_area": null,
       "grid_auto_columns": null,
       "grid_auto_flow": null,
       "grid_auto_rows": null,
       "grid_column": null,
       "grid_gap": null,
       "grid_row": null,
       "grid_template_areas": null,
       "grid_template_columns": null,
       "grid_template_rows": null,
       "height": null,
       "justify_content": null,
       "justify_items": null,
       "left": null,
       "margin": null,
       "max_height": null,
       "max_width": null,
       "min_height": null,
       "min_width": null,
       "object_fit": null,
       "object_position": null,
       "order": null,
       "overflow": null,
       "overflow_x": null,
       "overflow_y": null,
       "padding": null,
       "right": null,
       "top": null,
       "visibility": null,
       "width": null
      }
     },
     "faea7be120774041aa9f0c691f8330e0": {
      "model_module": "@jupyter-widgets/base",
      "model_module_version": "1.2.0",
      "model_name": "LayoutModel",
      "state": {
       "_model_module": "@jupyter-widgets/base",
       "_model_module_version": "1.2.0",
       "_model_name": "LayoutModel",
       "_view_count": null,
       "_view_module": "@jupyter-widgets/base",
       "_view_module_version": "1.2.0",
       "_view_name": "LayoutView",
       "align_content": null,
       "align_items": null,
       "align_self": null,
       "border": null,
       "bottom": null,
       "display": null,
       "flex": null,
       "flex_flow": null,
       "grid_area": null,
       "grid_auto_columns": null,
       "grid_auto_flow": null,
       "grid_auto_rows": null,
       "grid_column": null,
       "grid_gap": null,
       "grid_row": null,
       "grid_template_areas": null,
       "grid_template_columns": null,
       "grid_template_rows": null,
       "height": null,
       "justify_content": null,
       "justify_items": null,
       "left": null,
       "margin": null,
       "max_height": null,
       "max_width": null,
       "min_height": null,
       "min_width": null,
       "object_fit": null,
       "object_position": null,
       "order": null,
       "overflow": null,
       "overflow_x": null,
       "overflow_y": null,
       "padding": null,
       "right": null,
       "top": null,
       "visibility": null,
       "width": null
      }
     }
    },
    "version_major": 2,
    "version_minor": 0
   }
  }
 },
 "nbformat": 4,
 "nbformat_minor": 5
}
